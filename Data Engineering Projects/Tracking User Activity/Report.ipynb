{
 "cells": [
  {
   "cell_type": "markdown",
   "id": "322b087e",
   "metadata": {},
   "source": [
    "# Project 2: Tracking User Activity Report"
   ]
  },
  {
   "cell_type": "markdown",
   "id": "d08b75bd",
   "metadata": {},
   "source": [
    "### Docker and Kafka Through Terminal"
   ]
  },
  {
   "cell_type": "markdown",
   "id": "a87f4bee",
   "metadata": {},
   "source": [
    "##### copy docker-compose.yml file from course-content"
   ]
  },
  {
   "cell_type": "markdown",
   "id": "225d3d7d",
   "metadata": {},
   "source": [
    "```\n",
    "cp ../course-content/07-Sourcing-Data/docker-compose.yml .\n",
    "```"
   ]
  },
  {
   "cell_type": "markdown",
   "id": "058ea09b",
   "metadata": {},
   "source": [
    "##### spin up the cluster"
   ]
  },
  {
   "cell_type": "markdown",
   "id": "5992d6ad",
   "metadata": {},
   "source": [
    "```\n",
    "docker-compose up -d\n",
    "```"
   ]
  },
  {
   "cell_type": "markdown",
   "id": "4233aa50",
   "metadata": {},
   "source": [
    "##### pull the data"
   ]
  },
  {
   "cell_type": "markdown",
   "id": "b10c6661",
   "metadata": {},
   "source": [
    "```\n",
    "curl -L -o assessment-attempts-20180128-121051-nested.json https://goo.gl/ME6hjp\n",
    "```"
   ]
  },
  {
   "cell_type": "markdown",
   "id": "fdcce170",
   "metadata": {},
   "source": [
    "##### create and check the topic"
   ]
  },
  {
   "cell_type": "markdown",
   "id": "a6d96d05",
   "metadata": {},
   "source": [
    "```\n",
    "docker-compose exec kafka kafka-topics --create --topic assessment --partitions 1 --replication-factor 1 --if-not-exists --zookeeper zookeeper:32181\n",
    "```"
   ]
  },
  {
   "cell_type": "markdown",
   "id": "77110d15",
   "metadata": {},
   "source": [
    "```\n",
    "docker-compose exec kafka kafka-topics --describe --topic assessment --zookeeper zookeeper:32181\n",
    "```"
   ]
  },
  {
   "cell_type": "markdown",
   "id": "ffda047b",
   "metadata": {},
   "source": [
    "##### publish some messages"
   ]
  },
  {
   "cell_type": "markdown",
   "id": "2ed5e1e7",
   "metadata": {},
   "source": [
    "```\n",
    "docker-compose exec mids bash -c \"cat /w205/project-2-shhsieh99/assessment-attempts-20180128-121051-nested.json | jq '.[]' -c | kafkacat -P -b kafka:29092 -t assessments && echo 'Produced 100 messages.'\"\n",
    "```"
   ]
  },
  {
   "cell_type": "markdown",
   "id": "1cfd6b68",
   "metadata": {},
   "source": [
    "### Run Spark"
   ]
  },
  {
   "cell_type": "markdown",
   "id": "7dfe0eae",
   "metadata": {},
   "source": [
    "```\n",
    "docker-compose exec spark pyspark\n",
    "```"
   ]
  },
  {
   "cell_type": "markdown",
   "id": "273b434a",
   "metadata": {},
   "source": [
    "##### Read from kafka"
   ]
  },
  {
   "cell_type": "markdown",
   "id": "49181786",
   "metadata": {},
   "source": [
    "```\n",
    "messages = spark .read .format(\"kafka\") .option(\"kafka.bootstrap.servers\", \"kafka:29092\") .option(\"subscribe\",\"assessment\") .option(\"startingOffsets\", \"earliest\") .option(\"endingOffsets\", \"latest\") .load()\n",
    "```"
   ]
  },
  {
   "cell_type": "markdown",
   "id": "032530d7",
   "metadata": {},
   "source": [
    "##### Take a look"
   ]
  },
  {
   "cell_type": "markdown",
   "id": "68552960",
   "metadata": {},
   "source": [
    "```\n",
    "messages.printSchema()\n",
    "messages.show()\n",
    "```"
   ]
  },
  {
   "cell_type": "markdown",
   "id": "a965f618",
   "metadata": {},
   "source": [
    "##### Cache to cut back on warnings"
   ]
  },
  {
   "cell_type": "markdown",
   "id": "e1060765",
   "metadata": {},
   "source": [
    "```\n",
    "messages.cache()\n",
    "```"
   ]
  },
  {
   "cell_type": "markdown",
   "id": "ca049def",
   "metadata": {},
   "source": [
    "##### Cast as strings"
   ]
  },
  {
   "cell_type": "markdown",
   "id": "688c0b45",
   "metadata": {},
   "source": [
    "```\n",
    "assessments = messages.select(messages.value.cast('string'))\n",
    "```"
   ]
  },
  {
   "cell_type": "markdown",
   "id": "3f6c6cf6",
   "metadata": {},
   "source": [
    "##### Using json"
   ]
  },
  {
   "cell_type": "markdown",
   "id": "e7f92fdc",
   "metadata": {},
   "source": [
    "```\n",
    "import json\n",
    "first_message = json.loads(assessments.select('value').take(1)[0].value)\n",
    "```"
   ]
  },
  {
   "cell_type": "markdown",
   "id": "14f34267",
   "metadata": {},
   "source": [
    "##### Save as parquet"
   ]
  },
  {
   "cell_type": "markdown",
   "id": "4aa0e0a8",
   "metadata": {},
   "source": [
    "```\n",
    "assessments.write.parquet(\"/tmp/assessments\")\n",
    "```"
   ]
  },
  {
   "cell_type": "markdown",
   "id": "5bd9a13e",
   "metadata": {},
   "source": [
    "##### Deal with unicode"
   ]
  },
  {
   "cell_type": "markdown",
   "id": "17350c55",
   "metadata": {},
   "source": [
    "```\n",
    "import sys\n",
    "sys.stdout = open(sys.stdout.fileno(), mode='w', encoding='utf8', buffering=1)\n",
    "```"
   ]
  },
  {
   "cell_type": "markdown",
   "id": "53410d7c",
   "metadata": {},
   "source": [
    "##### Unrolling json"
   ]
  },
  {
   "cell_type": "markdown",
   "id": "b5dbeb5b",
   "metadata": {},
   "source": [
    "```\n",
    "extracted_assessments = assessments.rdd.map(lambda x: json.loads(x.value)).toDF()\n",
    "```"
   ]
  },
  {
   "cell_type": "markdown",
   "id": "47365ef3",
   "metadata": {},
   "source": [
    "##### Save as parquet"
   ]
  },
  {
   "cell_type": "markdown",
   "id": "2441ad94",
   "metadata": {},
   "source": [
    "```\n",
    "extracted_assessments.write.parquet(\"/tmp/extracted_assessments\")\n",
    "```"
   ]
  },
  {
   "cell_type": "markdown",
   "id": "bb72ae75",
   "metadata": {},
   "source": [
    "## Business Questions to answer"
   ]
  },
  {
   "cell_type": "markdown",
   "id": "ee2ae22b",
   "metadata": {},
   "source": [
    "#### Assumptions"
   ]
  },
  {
   "cell_type": "markdown",
   "id": "5b097bf3",
   "metadata": {},
   "source": [
    "- I assume that each data point in the given dataset is unique meaning there is no duplicate to any assessments in the dataset.\n",
    "- We have 3280 data points which might not be indicative of assessments (ex. missing data points)"
   ]
  },
  {
   "cell_type": "markdown",
   "id": "db855a40",
   "metadata": {},
   "source": [
    "#### Business Questions"
   ]
  },
  {
   "cell_type": "markdown",
   "id": "1a21938f",
   "metadata": {},
   "source": [
    "How many assesstments are in the dataset?\n",
    "- using the .count() function, I found there are 3280 assessments\n",
    "\n",
    "What's the name of your Kafka topic? How did you come up with that name?\n",
    "- The name of my Kafka topic is \"assessment\" because the data is about assessments so it is logical to name the topic after the dataset.\n",
    "\n",
    "What is the schema?"
   ]
  },
  {
   "cell_type": "markdown",
   "id": "d9feadf7",
   "metadata": {},
   "source": [
    "```\n",
    "extracted_assessments = assessments.rdd.map(lambda x: json.loads(x.value)).toDF()\n",
    "extracted_assessments.printSchema()\n",
    "```"
   ]
  },
  {
   "cell_type": "markdown",
   "id": "d5b193fe",
   "metadata": {},
   "source": [
    "```\n",
    "root\n",
    " |-- base_exam_id: string (nullable = true)\n",
    " |-- certification: string (nullable = true)\n",
    " |-- exam_name: string (nullable = true)\n",
    " |-- keen_created_at: string (nullable = true)\n",
    " |-- keen_id: string (nullable = true)\n",
    " |-- keen_timestamp: string (nullable = true)\n",
    " |-- max_attempts: string (nullable = true)\n",
    " |-- sequences: map (nullable = true)\n",
    " |    |-- key: string\n",
    " |    |-- value: array (valueContainsNull = true)\n",
    " |    |    |-- element: map (containsNull = true)\n",
    " |    |    |    |-- key: string\n",
    " |    |    |    |-- value: boolean (valueContainsNull = true)\n",
    " |-- started_at: string (nullable = true)\n",
    " |-- user_exam_id: string (nullable = true)\n",
    "```"
   ]
  },
  {
   "cell_type": "markdown",
   "id": "4a89a99d",
   "metadata": {},
   "source": [
    "- We see the very complex nested values this dataset contains so it could be difficult to navigate to certain business questions"
   ]
  },
  {
   "cell_type": "markdown",
   "id": "2ca3e06b",
   "metadata": {},
   "source": [
    "What are the top 10 most common courses?"
   ]
  },
  {
   "cell_type": "markdown",
   "id": "4c61aa30",
   "metadata": {},
   "source": [
    "```\n",
    "spark.sql(\"select exam_name, count(exam_name)  from assessments group by exam_name order by count(exam_name) desc\").show(10)\n",
    "```"
   ]
  },
  {
   "cell_type": "markdown",
   "id": "2fc744ba",
   "metadata": {},
   "source": [
    "```\n",
    "+--------------------+----------------+                                         \n",
    "|           exam_name|count(exam_name)|\n",
    "+--------------------+----------------+\n",
    "|        Learning Git|             394|\n",
    "|Introduction to P...|             162|\n",
    "|Introduction to J...|             158|\n",
    "|Intermediate Pyth...|             158|\n",
    "|Learning to Progr...|             128|\n",
    "|Introduction to M...|             119|\n",
    "|Software Architec...|             109|\n",
    "|Beginning C# Prog...|              95|\n",
    "|    Learning Eclipse|              85|\n",
    "|Learning Apache M...|              80|\n",
    "+--------------------+----------------+\n",
    "```"
   ]
  },
  {
   "cell_type": "markdown",
   "id": "8250ae20",
   "metadata": {},
   "source": [
    "How many people took *Learning Git*?\n",
    "- from the previous table we see 394 data points for people who took *Learning Git*"
   ]
  },
  {
   "cell_type": "markdown",
   "id": "16f3ef87",
   "metadata": {},
   "source": [
    "What are the top 10 least common courses?"
   ]
  },
  {
   "cell_type": "markdown",
   "id": "79556d1b",
   "metadata": {},
   "source": [
    "```\n",
    "spark.sql(\"select exam_name, count(exam_name)  from assessments group by exam_name order by count(exam_name)\").show(10)\n",
    "```"
   ]
  },
  {
   "cell_type": "markdown",
   "id": "d6a62378",
   "metadata": {},
   "source": [
    "```\n",
    "+--------------------+----------------+                                         \n",
    "|           exam_name|count(exam_name)|\n",
    "+--------------------+----------------+\n",
    "|Native Web Apps f...|               1|\n",
    "|Nulls, Three-valu...|               1|\n",
    "|Learning to Visua...|               1|\n",
    "|Operating Red Hat...|               1|\n",
    "|Client-Side Data ...|               2|\n",
    "|The Closed World ...|               2|\n",
    "|What's New in Jav...|               2|\n",
    "|Arduino Prototypi...|               2|\n",
    "|Hibernate and JPA...|               2|\n",
    "|Understanding the...|               2|\n",
    "+--------------------+----------------+\n",
    "```"
   ]
  },
  {
   "cell_type": "markdown",
   "id": "6cefb128",
   "metadata": {},
   "source": [
    "Was certification acquired?\n",
    "- the \"certification\" value is unclear to what is meant by true or false so I assume true meant certification acquired once sufficently completing course\n",
    "- the dataset is titled \"assessment-attempt\" so I can assume that these assessments are meant for people to acquire some certification"
   ]
  },
  {
   "cell_type": "markdown",
   "id": "d9305191",
   "metadata": {},
   "source": [
    "```\n",
    "spark.sql(\"select * from assessments where certification = true\").show(10)\n",
    "```"
   ]
  },
  {
   "cell_type": "markdown",
   "id": "f8c75f54",
   "metadata": {},
   "source": [
    "- an empty table was returned which I can assume that all certification values are false and thus no certifications were acquired."
   ]
  },
  {
   "cell_type": "code",
   "execution_count": null,
   "id": "3a4dc84c",
   "metadata": {},
   "outputs": [],
   "source": []
  }
 ],
 "metadata": {
  "environment": {
   "name": "common-cpu.m78",
   "type": "gcloud",
   "uri": "gcr.io/deeplearning-platform-release/base-cpu:m78"
  },
  "kernelspec": {
   "display_name": "Python 3",
   "language": "python",
   "name": "python3"
  },
  "language_info": {
   "codemirror_mode": {
    "name": "ipython",
    "version": 3
   },
   "file_extension": ".py",
   "mimetype": "text/x-python",
   "name": "python",
   "nbconvert_exporter": "python",
   "pygments_lexer": "ipython3",
   "version": "3.7.10"
  }
 },
 "nbformat": 4,
 "nbformat_minor": 5
}
