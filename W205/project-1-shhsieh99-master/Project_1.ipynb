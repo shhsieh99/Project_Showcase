{
 "cells": [
  {
   "cell_type": "markdown",
   "id": "ab2f41fc",
   "metadata": {},
   "source": [
    "# W205 Project 1\n",
    "## By: Shanie Hsieh"
   ]
  },
  {
   "cell_type": "markdown",
   "id": "c15bb765",
   "metadata": {},
   "source": [
    "### Install Packages"
   ]
  },
  {
   "cell_type": "code",
   "execution_count": 54,
   "id": "a4099a12",
   "metadata": {},
   "outputs": [],
   "source": [
    "import pandas as pd\n",
    "import numpy as np\n",
    "import matplotlib.pyplot as plt\n",
    "import seaborn as sns"
   ]
  },
  {
   "cell_type": "markdown",
   "id": "5526f7c3",
   "metadata": {},
   "source": [
    "## What are the 5 most popular trips that you would call \"commuter trips\"?"
   ]
  },
  {
   "cell_type": "markdown",
   "id": "25de856e",
   "metadata": {},
   "source": [
    "What are commuter trips?\n",
    "- Trips made during rush hour (Monday-Friday 7am-9am and 4pm-6pm)\n",
    "- Have different start and end stations\n",
    "\n",
    "We will be look at the 5 most popular stations in use during these commuter trips as well as the 5 most popular trips defined by the start station to end station."
   ]
  },
  {
   "cell_type": "markdown",
   "id": "1f76f57e",
   "metadata": {},
   "source": [
    "First, let's create our dataset for exploration, filtering to meet the criteria above."
   ]
  },
  {
   "cell_type": "code",
   "execution_count": 55,
   "id": "31609e40",
   "metadata": {},
   "outputs": [
    {
     "name": "stderr",
     "output_type": "stream",
     "text": [
      "Query complete after 0.00s: 100%|██████████| 1/1 [00:00<00:00, 536.15query/s] \n",
      "Downloading: 100%|██████████| 554131/554131 [00:02<00:00, 275839.34rows/s]\n"
     ]
    }
   ],
   "source": [
    "%%bigquery commuter_trips\n",
    "\n",
    "SELECT *\n",
    "FROM `bigquery-public-data.san_francisco.bikeshare_trips` \n",
    "WHERE EXTRACT(DAYOFWEEK FROM start_date) in (2,3,4,5,6) \n",
    "AND ((EXTRACT(HOUR FROM start_date) >= 7 AND EXTRACT(HOUR FROM start_date) <= 9) \n",
    "     OR (EXTRACT(HOUR FROM start_date) >= 16 AND EXTRACT(HOUR FROM start_date) <= 18))\n",
    "AND start_station_id != end_station_id"
   ]
  },
  {
   "cell_type": "code",
   "execution_count": 56,
   "id": "5cd09174",
   "metadata": {},
   "outputs": [
    {
     "data": {
      "text/plain": [
       "(554131, 11)"
      ]
     },
     "execution_count": 56,
     "metadata": {},
     "output_type": "execute_result"
    }
   ],
   "source": [
    "commuter_trips.shape"
   ]
  },
  {
   "cell_type": "code",
   "execution_count": 57,
   "id": "360f9c25",
   "metadata": {},
   "outputs": [
    {
     "data": {
      "text/html": [
       "<div>\n",
       "<style scoped>\n",
       "    .dataframe tbody tr th:only-of-type {\n",
       "        vertical-align: middle;\n",
       "    }\n",
       "\n",
       "    .dataframe tbody tr th {\n",
       "        vertical-align: top;\n",
       "    }\n",
       "\n",
       "    .dataframe thead th {\n",
       "        text-align: right;\n",
       "    }\n",
       "</style>\n",
       "<table border=\"1\" class=\"dataframe\">\n",
       "  <thead>\n",
       "    <tr style=\"text-align: right;\">\n",
       "      <th></th>\n",
       "      <th>trip_id</th>\n",
       "      <th>duration_sec</th>\n",
       "      <th>start_date</th>\n",
       "      <th>start_station_name</th>\n",
       "      <th>start_station_id</th>\n",
       "      <th>end_date</th>\n",
       "      <th>end_station_name</th>\n",
       "      <th>end_station_id</th>\n",
       "      <th>bike_number</th>\n",
       "      <th>zip_code</th>\n",
       "      <th>subscriber_type</th>\n",
       "    </tr>\n",
       "  </thead>\n",
       "  <tbody>\n",
       "    <tr>\n",
       "      <th>0</th>\n",
       "      <td>957659</td>\n",
       "      <td>587</td>\n",
       "      <td>2015-10-05 16:41:00+00:00</td>\n",
       "      <td>Sequoia Hospital</td>\n",
       "      <td>21</td>\n",
       "      <td>2015-10-05 16:51:00+00:00</td>\n",
       "      <td>Mezes</td>\n",
       "      <td>83</td>\n",
       "      <td>650</td>\n",
       "      <td>94063</td>\n",
       "      <td>Subscriber</td>\n",
       "    </tr>\n",
       "    <tr>\n",
       "      <th>1</th>\n",
       "      <td>1029835</td>\n",
       "      <td>301</td>\n",
       "      <td>2015-12-04 17:32:00+00:00</td>\n",
       "      <td>Redwood City Caltrain Station</td>\n",
       "      <td>22</td>\n",
       "      <td>2015-12-04 17:37:00+00:00</td>\n",
       "      <td>Mezes</td>\n",
       "      <td>83</td>\n",
       "      <td>155</td>\n",
       "      <td>94063</td>\n",
       "      <td>Subscriber</td>\n",
       "    </tr>\n",
       "    <tr>\n",
       "      <th>2</th>\n",
       "      <td>951818</td>\n",
       "      <td>206</td>\n",
       "      <td>2015-09-30 09:59:00+00:00</td>\n",
       "      <td>Redwood City Caltrain Station</td>\n",
       "      <td>22</td>\n",
       "      <td>2015-09-30 10:02:00+00:00</td>\n",
       "      <td>Mezes</td>\n",
       "      <td>83</td>\n",
       "      <td>175</td>\n",
       "      <td>94707</td>\n",
       "      <td>Subscriber</td>\n",
       "    </tr>\n",
       "    <tr>\n",
       "      <th>3</th>\n",
       "      <td>987584</td>\n",
       "      <td>325</td>\n",
       "      <td>2015-10-27 17:32:00+00:00</td>\n",
       "      <td>Redwood City Caltrain Station</td>\n",
       "      <td>22</td>\n",
       "      <td>2015-10-27 17:38:00+00:00</td>\n",
       "      <td>Mezes</td>\n",
       "      <td>83</td>\n",
       "      <td>52</td>\n",
       "      <td>94063</td>\n",
       "      <td>Subscriber</td>\n",
       "    </tr>\n",
       "    <tr>\n",
       "      <th>4</th>\n",
       "      <td>1009081</td>\n",
       "      <td>385</td>\n",
       "      <td>2015-11-13 17:09:00+00:00</td>\n",
       "      <td>Redwood City Caltrain Station</td>\n",
       "      <td>22</td>\n",
       "      <td>2015-11-13 17:15:00+00:00</td>\n",
       "      <td>Mezes</td>\n",
       "      <td>83</td>\n",
       "      <td>199</td>\n",
       "      <td>94063</td>\n",
       "      <td>Subscriber</td>\n",
       "    </tr>\n",
       "  </tbody>\n",
       "</table>\n",
       "</div>"
      ],
      "text/plain": [
       "   trip_id  duration_sec                start_date  \\\n",
       "0   957659           587 2015-10-05 16:41:00+00:00   \n",
       "1  1029835           301 2015-12-04 17:32:00+00:00   \n",
       "2   951818           206 2015-09-30 09:59:00+00:00   \n",
       "3   987584           325 2015-10-27 17:32:00+00:00   \n",
       "4  1009081           385 2015-11-13 17:09:00+00:00   \n",
       "\n",
       "              start_station_name  start_station_id                  end_date  \\\n",
       "0               Sequoia Hospital                21 2015-10-05 16:51:00+00:00   \n",
       "1  Redwood City Caltrain Station                22 2015-12-04 17:37:00+00:00   \n",
       "2  Redwood City Caltrain Station                22 2015-09-30 10:02:00+00:00   \n",
       "3  Redwood City Caltrain Station                22 2015-10-27 17:38:00+00:00   \n",
       "4  Redwood City Caltrain Station                22 2015-11-13 17:15:00+00:00   \n",
       "\n",
       "  end_station_name  end_station_id  bike_number zip_code subscriber_type  \n",
       "0            Mezes              83          650    94063      Subscriber  \n",
       "1            Mezes              83          155    94063      Subscriber  \n",
       "2            Mezes              83          175    94707      Subscriber  \n",
       "3            Mezes              83           52    94063      Subscriber  \n",
       "4            Mezes              83          199    94063      Subscriber  "
      ]
     },
     "execution_count": 57,
     "metadata": {},
     "output_type": "execute_result"
    }
   ],
   "source": [
    "commuter_trips.head()"
   ]
  },
  {
   "cell_type": "markdown",
   "id": "ea9eaedc",
   "metadata": {},
   "source": [
    "Let's take a look at the frequency of trips at start stations."
   ]
  },
  {
   "cell_type": "code",
   "execution_count": 58,
   "id": "a0fce9ac",
   "metadata": {},
   "outputs": [
    {
     "name": "stderr",
     "output_type": "stream",
     "text": [
      "Query complete after 0.00s: 100%|██████████| 1/1 [00:00<00:00, 925.89query/s] \n",
      "Downloading: 100%|██████████| 74/74 [00:02<00:00, 30.74rows/s]\n"
     ]
    }
   ],
   "source": [
    "%%bigquery commuter_trips_start\n",
    "\n",
    "SELECT start_station_id, count(*) as total_trips\n",
    "FROM `bigquery-public-data.san_francisco.bikeshare_trips` \n",
    "WHERE EXTRACT(DAYOFWEEK FROM start_date) in (2,3,4,5,6) \n",
    "AND ((EXTRACT(HOUR FROM start_date) >= 7 AND EXTRACT(HOUR FROM start_date) <= 9) \n",
    "     OR (EXTRACT(HOUR FROM start_date) >= 16 AND EXTRACT(HOUR FROM start_date) <= 18))\n",
    "AND start_station_id != end_station_id\n",
    "GROUP BY start_station_id\n",
    "ORDER BY total_trips DESC "
   ]
  },
  {
   "cell_type": "code",
   "execution_count": 59,
   "id": "0ef2c6c5",
   "metadata": {},
   "outputs": [
    {
     "data": {
      "text/html": [
       "<div>\n",
       "<style scoped>\n",
       "    .dataframe tbody tr th:only-of-type {\n",
       "        vertical-align: middle;\n",
       "    }\n",
       "\n",
       "    .dataframe tbody tr th {\n",
       "        vertical-align: top;\n",
       "    }\n",
       "\n",
       "    .dataframe thead th {\n",
       "        text-align: right;\n",
       "    }\n",
       "</style>\n",
       "<table border=\"1\" class=\"dataframe\">\n",
       "  <thead>\n",
       "    <tr style=\"text-align: right;\">\n",
       "      <th></th>\n",
       "      <th>start_station_id</th>\n",
       "      <th>total_trips</th>\n",
       "    </tr>\n",
       "  </thead>\n",
       "  <tbody>\n",
       "    <tr>\n",
       "      <th>0</th>\n",
       "      <td>70</td>\n",
       "      <td>52211</td>\n",
       "    </tr>\n",
       "    <tr>\n",
       "      <th>1</th>\n",
       "      <td>69</td>\n",
       "      <td>40100</td>\n",
       "    </tr>\n",
       "    <tr>\n",
       "      <th>2</th>\n",
       "      <td>55</td>\n",
       "      <td>28772</td>\n",
       "    </tr>\n",
       "    <tr>\n",
       "      <th>3</th>\n",
       "      <td>50</td>\n",
       "      <td>26890</td>\n",
       "    </tr>\n",
       "    <tr>\n",
       "      <th>4</th>\n",
       "      <td>74</td>\n",
       "      <td>25107</td>\n",
       "    </tr>\n",
       "  </tbody>\n",
       "</table>\n",
       "</div>"
      ],
      "text/plain": [
       "   start_station_id  total_trips\n",
       "0                70        52211\n",
       "1                69        40100\n",
       "2                55        28772\n",
       "3                50        26890\n",
       "4                74        25107"
      ]
     },
     "execution_count": 59,
     "metadata": {},
     "output_type": "execute_result"
    }
   ],
   "source": [
    "commuter_trips_start.head()"
   ]
  },
  {
   "cell_type": "markdown",
   "id": "c5b5e903",
   "metadata": {},
   "source": [
    "From this aggregation, we can see that these 5 station ids are the most freqent start points during commuter trips. A look into the station ids from bikeshare_stations, we can extract the station names. So, our top 5 start locations are: \n",
    "1. Station ID 70: San Francisco Caltrain (Townsend at 4th)\n",
    "2. Station ID 69: San Francisco Caltrain 2 (330 Townsend)\n",
    "3. Station ID 55: Temporary Transbay Terminal (Howard at Beale)\n",
    "4. Station ID 50: Harry Bridges Plaza (Ferry Building)\n",
    "5. Station ID 74: Steuart at Market"
   ]
  },
  {
   "cell_type": "markdown",
   "id": "0c52cc83",
   "metadata": {},
   "source": [
    "Let's see a visualization of the top 10 start stations and their frequency in use during commuter trips."
   ]
  },
  {
   "cell_type": "code",
   "execution_count": 60,
   "id": "70fd9ff4",
   "metadata": {},
   "outputs": [],
   "source": [
    "commuter_trips_start_ten = commuter_trips_start.head(10)"
   ]
  },
  {
   "cell_type": "code",
   "execution_count": 61,
   "id": "86632a82",
   "metadata": {},
   "outputs": [
    {
     "data": {
      "text/plain": [
       "Text(0.5, 1.0, 'Top 10 Start Stations for Commuter Trips')"
      ]
     },
     "execution_count": 61,
     "metadata": {},
     "output_type": "execute_result"
    },
    {
     "data": {
      "image/png": "[encoded data removed]",
      "text/plain": [
       "<Figure size 432x288 with 1 Axes>"
      ]
     },
     "metadata": {
      "needs_background": "light"
     },
     "output_type": "display_data"
    }
   ],
   "source": [
    "ax = sns.barplot(y = commuter_trips_start_ten[\"start_station_id\"], x = commuter_trips_start_ten[\"total_trips\"], orient = \"h\", order = commuter_trips_start_ten[\"start_station_id\"])\n",
    "ax.set_xlabel('Total Amount of Trips')\n",
    "ax.set_ylabel('Station ID')\n",
    "ax.set_title('Top 10 Start Stations for Commuter Trips')"
   ]
  },
  {
   "cell_type": "markdown",
   "id": "8c3f13d4",
   "metadata": {},
   "source": [
    "Seeing these 5 most popular start stations, it would be interesting to see if the overall trips from start and end station correlate with these popular start stations we see. Let's look at the 5 most popular trips involving the 5 stations listed above and then look at the 5 most popular trips in the whole dataset."
   ]
  },
  {
   "cell_type": "code",
   "execution_count": 90,
   "id": "17398d9d",
   "metadata": {},
   "outputs": [
    {
     "name": "stderr",
     "output_type": "stream",
     "text": [
      "Query complete after 0.00s: 100%|██████████| 1/1 [00:00<00:00, 455.51query/s] \n",
      "Downloading: 100%|██████████| 173080/173080 [00:02<00:00, 66470.93rows/s] \n"
     ]
    }
   ],
   "source": [
    "%%bigquery commuter_trips_top_stations\n",
    "\n",
    "SELECT *\n",
    "FROM `bigquery-public-data.san_francisco.bikeshare_trips` \n",
    "WHERE EXTRACT(DAYOFWEEK FROM start_date) in (2,3,4,5,6) \n",
    "AND ((EXTRACT(HOUR FROM start_date) >= 7 AND EXTRACT(HOUR FROM start_date) <= 9) \n",
    "     OR (EXTRACT(HOUR FROM start_date) >= 16 AND EXTRACT(HOUR FROM start_date) <= 18))\n",
    "AND start_station_id != end_station_id\n",
    "AND start_station_id in (50,55,69,70,74)"
   ]
  },
  {
   "cell_type": "code",
   "execution_count": 91,
   "id": "e69a1d0e",
   "metadata": {},
   "outputs": [
    {
     "data": {
      "text/plain": [
       "(173080, 11)"
      ]
     },
     "execution_count": 91,
     "metadata": {},
     "output_type": "execute_result"
    }
   ],
   "source": [
    "commuter_trips_top_stations.shape"
   ]
  },
  {
   "cell_type": "markdown",
   "id": "1b8fb7df",
   "metadata": {},
   "source": [
    "Our dataset went from 554,131 trips to 173,080 trips, limiting the data we are looking at. Let's group the trips from start station to end station."
   ]
  },
  {
   "cell_type": "code",
   "execution_count": 92,
   "id": "9429cb45",
   "metadata": {},
   "outputs": [
    {
     "name": "stderr",
     "output_type": "stream",
     "text": [
      "Query complete after 0.00s: 100%|██████████| 1/1 [00:00<00:00, 415.65query/s] \n",
      "Downloading: 100%|██████████| 178/178 [00:01<00:00, 102.58rows/s]\n"
     ]
    }
   ],
   "source": [
    "%%bigquery commuter_trips_top_stations\n",
    "\n",
    "SELECT start_station_id, end_station_id, count(*) as total_trips\n",
    "FROM `bigquery-public-data.san_francisco.bikeshare_trips` \n",
    "WHERE EXTRACT(DAYOFWEEK FROM start_date) in (2,3,4,5,6) \n",
    "AND ((EXTRACT(HOUR FROM start_date) >= 7 AND EXTRACT(HOUR FROM start_date) <= 9) \n",
    "     OR (EXTRACT(HOUR FROM start_date) >= 16 AND EXTRACT(HOUR FROM start_date) <= 18))\n",
    "AND start_station_id != end_station_id\n",
    "AND start_station_id in (50,55,69,70,74)\n",
    "GROUP BY start_station_id, end_station_id\n",
    "ORDER BY total_trips DESC "
   ]
  },
  {
   "cell_type": "code",
   "execution_count": 93,
   "id": "54022340",
   "metadata": {},
   "outputs": [
    {
     "data": {
      "text/html": [
       "<div>\n",
       "<style scoped>\n",
       "    .dataframe tbody tr th:only-of-type {\n",
       "        vertical-align: middle;\n",
       "    }\n",
       "\n",
       "    .dataframe tbody tr th {\n",
       "        vertical-align: top;\n",
       "    }\n",
       "\n",
       "    .dataframe thead th {\n",
       "        text-align: right;\n",
       "    }\n",
       "</style>\n",
       "<table border=\"1\" class=\"dataframe\">\n",
       "  <thead>\n",
       "    <tr style=\"text-align: right;\">\n",
       "      <th></th>\n",
       "      <th>start_station_id</th>\n",
       "      <th>end_station_id</th>\n",
       "      <th>total_trips</th>\n",
       "    </tr>\n",
       "  </thead>\n",
       "  <tbody>\n",
       "    <tr>\n",
       "      <th>0</th>\n",
       "      <td>50</td>\n",
       "      <td>61</td>\n",
       "      <td>5127</td>\n",
       "    </tr>\n",
       "    <tr>\n",
       "      <th>1</th>\n",
       "      <td>69</td>\n",
       "      <td>65</td>\n",
       "      <td>5040</td>\n",
       "    </tr>\n",
       "    <tr>\n",
       "      <th>2</th>\n",
       "      <td>70</td>\n",
       "      <td>50</td>\n",
       "      <td>4689</td>\n",
       "    </tr>\n",
       "    <tr>\n",
       "      <th>3</th>\n",
       "      <td>74</td>\n",
       "      <td>61</td>\n",
       "      <td>4632</td>\n",
       "    </tr>\n",
       "    <tr>\n",
       "      <th>4</th>\n",
       "      <td>55</td>\n",
       "      <td>70</td>\n",
       "      <td>4584</td>\n",
       "    </tr>\n",
       "  </tbody>\n",
       "</table>\n",
       "</div>"
      ],
      "text/plain": [
       "   start_station_id  end_station_id  total_trips\n",
       "0                50              61         5127\n",
       "1                69              65         5040\n",
       "2                70              50         4689\n",
       "3                74              61         4632\n",
       "4                55              70         4584"
      ]
     },
     "execution_count": 93,
     "metadata": {},
     "output_type": "execute_result"
    }
   ],
   "source": [
    "commuter_trips_top_stations.head()"
   ]
  },
  {
   "cell_type": "markdown",
   "id": "ada35930",
   "metadata": {},
   "source": [
    "From the most popular start stations, we see the most top 5 trips made involving those start stations are: \n",
    "1. 50 (Harry Bridges Plaza (Ferry Building)) -> 61 (Civic Center BART (7th at Market))\n",
    "2. 69 (San Francisco Caltrain 2 (330 Townsend)) -> 65 (Market at 4th)\n",
    "3. 70 (Ryland Park) -> 50 (2nd at Townsend)\n",
    "4. 74 (Steuart at Market) -> 61 (Civic Center BART (7th at Market))\n",
    "5. 55 (South Van Ness at Market) -> 70 (Ryland Park)"
   ]
  },
  {
   "cell_type": "markdown",
   "id": "2a64c75a",
   "metadata": {},
   "source": [
    "Now, taking the original dataset with the commuter trip filters, let's look at the most popular trips from start station to end station."
   ]
  },
  {
   "cell_type": "code",
   "execution_count": 94,
   "id": "7deac301",
   "metadata": {},
   "outputs": [
    {
     "name": "stderr",
     "output_type": "stream",
     "text": [
      "Query complete after 0.00s: 100%|██████████| 1/1 [00:00<00:00, 520.06query/s] \n",
      "Downloading: 100%|██████████| 1688/1688 [00:02<00:00, 718.05rows/s]\n"
     ]
    }
   ],
   "source": [
    "%%bigquery commuter_trips_top_trips\n",
    "\n",
    "SELECT start_station_id, end_station_id, count(*) as total_trips\n",
    "FROM `bigquery-public-data.san_francisco.bikeshare_trips` \n",
    "WHERE EXTRACT(DAYOFWEEK FROM start_date) in (2,3,4,5,6) \n",
    "AND ((EXTRACT(HOUR FROM start_date) >= 7 AND EXTRACT(HOUR FROM start_date) <= 9) \n",
    "     OR (EXTRACT(HOUR FROM start_date) >= 16 AND EXTRACT(HOUR FROM start_date) <= 18))\n",
    "AND start_station_id != end_station_id\n",
    "GROUP BY start_station_id, end_station_id\n",
    "ORDER BY total_trips DESC "
   ]
  },
  {
   "cell_type": "code",
   "execution_count": 95,
   "id": "2b56598c",
   "metadata": {},
   "outputs": [
    {
     "data": {
      "text/html": [
       "<div>\n",
       "<style scoped>\n",
       "    .dataframe tbody tr th:only-of-type {\n",
       "        vertical-align: middle;\n",
       "    }\n",
       "\n",
       "    .dataframe tbody tr th {\n",
       "        vertical-align: top;\n",
       "    }\n",
       "\n",
       "    .dataframe thead th {\n",
       "        text-align: right;\n",
       "    }\n",
       "</style>\n",
       "<table border=\"1\" class=\"dataframe\">\n",
       "  <thead>\n",
       "    <tr style=\"text-align: right;\">\n",
       "      <th></th>\n",
       "      <th>start_station_id</th>\n",
       "      <th>end_station_id</th>\n",
       "      <th>total_trips</th>\n",
       "    </tr>\n",
       "  </thead>\n",
       "  <tbody>\n",
       "    <tr>\n",
       "      <th>0</th>\n",
       "      <td>61</td>\n",
       "      <td>50</td>\n",
       "      <td>5165</td>\n",
       "    </tr>\n",
       "    <tr>\n",
       "      <th>1</th>\n",
       "      <td>50</td>\n",
       "      <td>61</td>\n",
       "      <td>5127</td>\n",
       "    </tr>\n",
       "    <tr>\n",
       "      <th>2</th>\n",
       "      <td>69</td>\n",
       "      <td>65</td>\n",
       "      <td>5040</td>\n",
       "    </tr>\n",
       "    <tr>\n",
       "      <th>3</th>\n",
       "      <td>60</td>\n",
       "      <td>74</td>\n",
       "      <td>4904</td>\n",
       "    </tr>\n",
       "    <tr>\n",
       "      <th>4</th>\n",
       "      <td>51</td>\n",
       "      <td>70</td>\n",
       "      <td>4756</td>\n",
       "    </tr>\n",
       "  </tbody>\n",
       "</table>\n",
       "</div>"
      ],
      "text/plain": [
       "   start_station_id  end_station_id  total_trips\n",
       "0                61              50         5165\n",
       "1                50              61         5127\n",
       "2                69              65         5040\n",
       "3                60              74         4904\n",
       "4                51              70         4756"
      ]
     },
     "execution_count": 95,
     "metadata": {},
     "output_type": "execute_result"
    }
   ],
   "source": [
    "commuter_trips_top_trips.head()"
   ]
  },
  {
   "cell_type": "markdown",
   "id": "fb3c2cb3",
   "metadata": {},
   "source": [
    "From these overall most common and popular trips, we see the top 5 are: \n",
    "1. 61 (Civic Center BART (7th at Market)) -> 50 (Harry Bridges Plaza (Ferry Building))\n",
    "2. 50 (Harry Bridges Plaza (Ferry Building)) -> 61 (Civic Center BART (7th at Market))\n",
    "3. 69 (San Francisco Caltrain 2 (330 Townsend)) -> 65 (Market at 4th)\n",
    "4. 60 (Powell at Post (Union Square)) -> 74 (Cyril Magnin St at Ellis St)\n",
    "5. 51 (2nd at Folsom) -> 70 (Ryland Park)"
   ]
  },
  {
   "cell_type": "markdown",
   "id": "8929646f",
   "metadata": {},
   "source": [
    "This is interesting because at first, I believed that by looking at the most popular start stations, I can deduct the 5 most popular trips that way but in fact, we see the top 5 trips made do not necessarily include the top 5 most popular start stations."
   ]
  },
  {
   "cell_type": "code",
   "execution_count": 98,
   "id": "aa129ce0",
   "metadata": {},
   "outputs": [],
   "source": [
    "#create a column for better graphing\n",
    "commuter_trips_top_stations['stations'] = commuter_trips_top_stations['start_station_id'].map(str) + '->' + commuter_trips_top_stations['end_station_id'].map(str)\n",
    "commuter_trips_top_stations_top = commuter_trips_top_stations.head()\n",
    "commuter_trips_top_trips['stations'] = commuter_trips_top_trips['start_station_id'].map(str) + '->' + commuter_trips_top_trips['end_station_id'].map(str)\n",
    "commuter_trips_top_trips_top = commuter_trips_top_trips.head()"
   ]
  },
  {
   "cell_type": "code",
   "execution_count": 106,
   "id": "b1912780",
   "metadata": {},
   "outputs": [
    {
     "data": {
      "text/plain": [
       "Text(0.5, 1.0, 'Top 5 Commuter Trips with a Popular Start Station')"
      ]
     },
     "execution_count": 106,
     "metadata": {},
     "output_type": "execute_result"
    },
    {
     "data": {
      "image/png": "[encoded data removed]",
      "text/plain": [
       "<Figure size 432x288 with 1 Axes>"
      ]
     },
     "metadata": {
      "needs_background": "light"
     },
     "output_type": "display_data"
    }
   ],
   "source": [
    "#barplot based on only stations where the start station was one of the most popular stops\n",
    "ax = sns.barplot(y = commuter_trips_top_stations_top[\"stations\"], x = commuter_trips_top_stations_top[\"total_trips\"])\n",
    "ax.set_xlabel('Total Amount of Trips')\n",
    "ax.set_ylabel('Station IDs')\n",
    "ax.set_title('Top 5 Commuter Trips with a Popular Start Station')"
   ]
  },
  {
   "cell_type": "code",
   "execution_count": 107,
   "id": "a355947b",
   "metadata": {},
   "outputs": [
    {
     "data": {
      "text/plain": [
       "Text(0.5, 1.0, 'Top 5 Commuter Trips')"
      ]
     },
     "execution_count": 107,
     "metadata": {},
     "output_type": "execute_result"
    },
    {
     "data": {
      "image/png": "[encoded data removed]",
      "text/plain": [
       "<Figure size 432x288 with 1 Axes>"
      ]
     },
     "metadata": {
      "needs_background": "light"
     },
     "output_type": "display_data"
    }
   ],
   "source": [
    "#barplot based on overall most popular trips\n",
    "ax = sns.barplot(y = commuter_trips_top_trips_top[\"stations\"], x = commuter_trips_top_trips_top[\"total_trips\"])\n",
    "ax.set_xlabel('Total Amount of Trips')\n",
    "ax.set_ylabel('Station IDs')\n",
    "ax.set_title('Top 5 Commuter Trips')"
   ]
  },
  {
   "cell_type": "markdown",
   "id": "31ae036d",
   "metadata": {},
   "source": [
    "## What are your recommendations for offers (justify based on your findings)?"
   ]
  },
  {
   "cell_type": "markdown",
   "id": "58732ef8",
   "metadata": {},
   "source": [
    "Some questions I would like to explore to give recommendations are the following:\n",
    "- What type of membership do users have for commuter trips?\n",
    "- When and where do non-members use bikes the most?\n",
    "- How often do members use bikes when not during commuting hours?\n",
    "- What does ride duration distribution look like?"
   ]
  },
  {
   "cell_type": "markdown",
   "id": "7438b6b4",
   "metadata": {},
   "source": [
    "#### Part 1: What type of membership do users have for commuter trips?\n",
    "Using the definition from the previous section for commuter trips, lets see what type of membership people have when they use bikes during these trips."
   ]
  },
  {
   "cell_type": "code",
   "execution_count": 113,
   "id": "55c96a4b",
   "metadata": {},
   "outputs": [
    {
     "name": "stderr",
     "output_type": "stream",
     "text": [
      "Query complete after 0.00s: 100%|██████████| 1/1 [00:00<00:00, 445.26query/s] \n",
      "Downloading: 100%|██████████| 2/2 [00:01<00:00,  1.71rows/s]\n"
     ]
    }
   ],
   "source": [
    "%%bigquery commuter_trips_membership\n",
    "\n",
    "SELECT subscriber_type, count(*) as total_trips, avg(duration_sec) as trip_duration\n",
    "FROM `bigquery-public-data.san_francisco.bikeshare_trips` \n",
    "WHERE EXTRACT(DAYOFWEEK FROM start_date) in (2,3,4,5,6) \n",
    "AND ((EXTRACT(HOUR FROM start_date) >= 7 AND EXTRACT(HOUR FROM start_date) <= 9) \n",
    "     OR (EXTRACT(HOUR FROM start_date) >= 16 AND EXTRACT(HOUR FROM start_date) <= 18))\n",
    "AND start_station_id != end_station_id\n",
    "GROUP BY subscriber_type"
   ]
  },
  {
   "cell_type": "code",
   "execution_count": 114,
   "id": "e3b9da03",
   "metadata": {},
   "outputs": [
    {
     "data": {
      "text/html": [
       "<div>\n",
       "<style scoped>\n",
       "    .dataframe tbody tr th:only-of-type {\n",
       "        vertical-align: middle;\n",
       "    }\n",
       "\n",
       "    .dataframe tbody tr th {\n",
       "        vertical-align: top;\n",
       "    }\n",
       "\n",
       "    .dataframe thead th {\n",
       "        text-align: right;\n",
       "    }\n",
       "</style>\n",
       "<table border=\"1\" class=\"dataframe\">\n",
       "  <thead>\n",
       "    <tr style=\"text-align: right;\">\n",
       "      <th></th>\n",
       "      <th>subscriber_type</th>\n",
       "      <th>total_trips</th>\n",
       "      <th>trip_duration</th>\n",
       "    </tr>\n",
       "  </thead>\n",
       "  <tbody>\n",
       "    <tr>\n",
       "      <th>0</th>\n",
       "      <td>Subscriber</td>\n",
       "      <td>526819</td>\n",
       "      <td>571.716635</td>\n",
       "    </tr>\n",
       "    <tr>\n",
       "      <th>1</th>\n",
       "      <td>Customer</td>\n",
       "      <td>27312</td>\n",
       "      <td>2006.227080</td>\n",
       "    </tr>\n",
       "  </tbody>\n",
       "</table>\n",
       "</div>"
      ],
      "text/plain": [
       "  subscriber_type  total_trips  trip_duration\n",
       "0      Subscriber       526819     571.716635\n",
       "1        Customer        27312    2006.227080"
      ]
     },
     "execution_count": 114,
     "metadata": {},
     "output_type": "execute_result"
    }
   ],
   "source": [
    "commuter_trips_membership"
   ]
  },
  {
   "cell_type": "markdown",
   "id": "2ae05b31",
   "metadata": {},
   "source": [
    "We see a huge percentage of users are actually subscribers during commuter trips and only about 5% are customers. Even more so, it's interesting to see the huge different in trip duration between subscribers and customers. Let's take a look at the 5 most popular trips from customers compared to that of subscribers."
   ]
  },
  {
   "cell_type": "code",
   "execution_count": 118,
   "id": "0bc578b8",
   "metadata": {},
   "outputs": [
    {
     "name": "stderr",
     "output_type": "stream",
     "text": [
      "Query complete after 0.00s: 100%|██████████| 3/3 [00:00<00:00, 1082.68query/s]                        \n",
      "Downloading: 100%|██████████| 1555/1555 [00:01<00:00, 1151.16rows/s]\n"
     ]
    }
   ],
   "source": [
    "%%bigquery commuter_trips_customer\n",
    "\n",
    "SELECT start_station_id, end_station_id, count(*) as total_trips\n",
    "FROM `bigquery-public-data.san_francisco.bikeshare_trips` \n",
    "WHERE EXTRACT(DAYOFWEEK FROM start_date) in (2,3,4,5,6) \n",
    "AND ((EXTRACT(HOUR FROM start_date) >= 7 AND EXTRACT(HOUR FROM start_date) <= 9) \n",
    "     OR (EXTRACT(HOUR FROM start_date) >= 16 AND EXTRACT(HOUR FROM start_date) <= 18))\n",
    "AND start_station_id != end_station_id\n",
    "AND subscriber_type = \"Customer\"\n",
    "GROUP BY start_station_id, end_station_id\n",
    "ORDER BY total_trips DESC "
   ]
  },
  {
   "cell_type": "code",
   "execution_count": 120,
   "id": "832977d3",
   "metadata": {},
   "outputs": [
    {
     "data": {
      "text/html": [
       "<div>\n",
       "<style scoped>\n",
       "    .dataframe tbody tr th:only-of-type {\n",
       "        vertical-align: middle;\n",
       "    }\n",
       "\n",
       "    .dataframe tbody tr th {\n",
       "        vertical-align: top;\n",
       "    }\n",
       "\n",
       "    .dataframe thead th {\n",
       "        text-align: right;\n",
       "    }\n",
       "</style>\n",
       "<table border=\"1\" class=\"dataframe\">\n",
       "  <thead>\n",
       "    <tr style=\"text-align: right;\">\n",
       "      <th></th>\n",
       "      <th>start_station_id</th>\n",
       "      <th>end_station_id</th>\n",
       "      <th>total_trips</th>\n",
       "    </tr>\n",
       "  </thead>\n",
       "  <tbody>\n",
       "    <tr>\n",
       "      <th>0</th>\n",
       "      <td>50</td>\n",
       "      <td>60</td>\n",
       "      <td>625</td>\n",
       "    </tr>\n",
       "    <tr>\n",
       "      <th>1</th>\n",
       "      <td>60</td>\n",
       "      <td>50</td>\n",
       "      <td>270</td>\n",
       "    </tr>\n",
       "    <tr>\n",
       "      <th>2</th>\n",
       "      <td>60</td>\n",
       "      <td>74</td>\n",
       "      <td>215</td>\n",
       "    </tr>\n",
       "    <tr>\n",
       "      <th>3</th>\n",
       "      <td>48</td>\n",
       "      <td>60</td>\n",
       "      <td>188</td>\n",
       "    </tr>\n",
       "    <tr>\n",
       "      <th>4</th>\n",
       "      <td>74</td>\n",
       "      <td>60</td>\n",
       "      <td>169</td>\n",
       "    </tr>\n",
       "  </tbody>\n",
       "</table>\n",
       "</div>"
      ],
      "text/plain": [
       "   start_station_id  end_station_id  total_trips\n",
       "0                50              60          625\n",
       "1                60              50          270\n",
       "2                60              74          215\n",
       "3                48              60          188\n",
       "4                74              60          169"
      ]
     },
     "execution_count": 120,
     "metadata": {},
     "output_type": "execute_result"
    }
   ],
   "source": [
    "commuter_trips_customer.head()"
   ]
  },
  {
   "cell_type": "code",
   "execution_count": 121,
   "id": "be0ef7c5",
   "metadata": {},
   "outputs": [
    {
     "name": "stderr",
     "output_type": "stream",
     "text": [
      "Query complete after 0.00s: 100%|██████████| 3/3 [00:00<00:00, 1011.65query/s]                        \n",
      "Downloading: 100%|██████████| 1630/1630 [00:01<00:00, 1375.16rows/s]\n"
     ]
    }
   ],
   "source": [
    "%%bigquery commuter_trips_subscriber\n",
    "\n",
    "SELECT start_station_id, end_station_id, count(*) as total_trips\n",
    "FROM `bigquery-public-data.san_francisco.bikeshare_trips` \n",
    "WHERE EXTRACT(DAYOFWEEK FROM start_date) in (2,3,4,5,6) \n",
    "AND ((EXTRACT(HOUR FROM start_date) >= 7 AND EXTRACT(HOUR FROM start_date) <= 9) \n",
    "     OR (EXTRACT(HOUR FROM start_date) >= 16 AND EXTRACT(HOUR FROM start_date) <= 18))\n",
    "AND start_station_id != end_station_id\n",
    "AND subscriber_type = \"Subscriber\"\n",
    "GROUP BY start_station_id, end_station_id\n",
    "ORDER BY total_trips DESC "
   ]
  },
  {
   "cell_type": "code",
   "execution_count": 123,
   "id": "7d586321",
   "metadata": {},
   "outputs": [
    {
     "data": {
      "text/html": [
       "<div>\n",
       "<style scoped>\n",
       "    .dataframe tbody tr th:only-of-type {\n",
       "        vertical-align: middle;\n",
       "    }\n",
       "\n",
       "    .dataframe tbody tr th {\n",
       "        vertical-align: top;\n",
       "    }\n",
       "\n",
       "    .dataframe thead th {\n",
       "        text-align: right;\n",
       "    }\n",
       "</style>\n",
       "<table border=\"1\" class=\"dataframe\">\n",
       "  <thead>\n",
       "    <tr style=\"text-align: right;\">\n",
       "      <th></th>\n",
       "      <th>start_station_id</th>\n",
       "      <th>end_station_id</th>\n",
       "      <th>total_trips</th>\n",
       "    </tr>\n",
       "  </thead>\n",
       "  <tbody>\n",
       "    <tr>\n",
       "      <th>0</th>\n",
       "      <td>61</td>\n",
       "      <td>50</td>\n",
       "      <td>5034</td>\n",
       "    </tr>\n",
       "    <tr>\n",
       "      <th>1</th>\n",
       "      <td>50</td>\n",
       "      <td>61</td>\n",
       "      <td>4973</td>\n",
       "    </tr>\n",
       "    <tr>\n",
       "      <th>2</th>\n",
       "      <td>69</td>\n",
       "      <td>65</td>\n",
       "      <td>4958</td>\n",
       "    </tr>\n",
       "    <tr>\n",
       "      <th>3</th>\n",
       "      <td>60</td>\n",
       "      <td>74</td>\n",
       "      <td>4689</td>\n",
       "    </tr>\n",
       "    <tr>\n",
       "      <th>4</th>\n",
       "      <td>51</td>\n",
       "      <td>70</td>\n",
       "      <td>4686</td>\n",
       "    </tr>\n",
       "  </tbody>\n",
       "</table>\n",
       "</div>"
      ],
      "text/plain": [
       "   start_station_id  end_station_id  total_trips\n",
       "0                61              50         5034\n",
       "1                50              61         4973\n",
       "2                69              65         4958\n",
       "3                60              74         4689\n",
       "4                51              70         4686"
      ]
     },
     "execution_count": 123,
     "metadata": {},
     "output_type": "execute_result"
    }
   ],
   "source": [
    "commuter_trips_subscriber.head()"
   ]
  },
  {
   "cell_type": "markdown",
   "id": "69d4477d",
   "metadata": {},
   "source": [
    "The Top 5 most common trips by customers are: \n",
    "1. 50 (Harry Bridges Plaza (Ferry Building)) -> 60 (Powell at Post (Union Square))\n",
    "2. 60 (Powell at Post (Union Square)) -> 50 (Harry Bridges Plaza (Ferry Building))\n",
    "3. 60 (Powell at Post (Union Square)) -> 74 (Cyril Magnin St at Ellis St)\n",
    "4. 48 (Embarcadero at Vallejo) -> 60 (Powell at Post (Union Square))\n",
    "5. 74 (Cyril Magnin St at Ellis St) -> 60 (Powell at Post (Union Square))\n",
    "\n",
    "The Top 5 most common trips by subscribers are:\n",
    "1. 61 (Civic Center BART (7th at Market)) -> 50 (Harry Bridges Plaza (Ferry Building))\n",
    "2. 50 (Harry Bridges Plaza (Ferry Building)) -> 61 (Civic Center BART (7th at Market))\n",
    "3. 69 (San Francisco Caltrain 2 (330 Townsend)) -> 65 (Market at 4th)\n",
    "4. 60 (Powell at Post (Union Square)) -> 74 (Cyril Magnin St at Ellis St)\n",
    "5. 51 (2nd at Folsom) -> 70 (Ryland Park)\n",
    "\n",
    "Interestingly, we see a common station in all 5 of the trips by customers, 60 (Powell at Post (Union Square))."
   ]
  },
  {
   "cell_type": "markdown",
   "id": "235e9465",
   "metadata": {},
   "source": [
    "#### Part 2: When and where do non-members use bikes the most?"
   ]
  },
  {
   "cell_type": "code",
   "execution_count": 133,
   "id": "55e94fb3",
   "metadata": {},
   "outputs": [
    {
     "name": "stderr",
     "output_type": "stream",
     "text": [
      "Query complete after 0.00s: 100%|██████████| 1/1 [00:00<00:00, 998.17query/s] \n",
      "Downloading: 100%|██████████| 7/7 [00:01<00:00,  5.65rows/s]\n"
     ]
    }
   ],
   "source": [
    "%%bigquery customer_days\n",
    "\n",
    "SELECT EXTRACT(DAYOFWEEK FROM start_date) as week_day, count(*) as total_trips\n",
    "FROM `bigquery-public-data.san_francisco.bikeshare_trips` \n",
    "WHERE subscriber_type = \"Customer\"\n",
    "GROUP BY week_day\n",
    "ORDER BY week_day"
   ]
  },
  {
   "cell_type": "code",
   "execution_count": 134,
   "id": "eceb7f44",
   "metadata": {},
   "outputs": [
    {
     "data": {
      "text/html": [
       "<div>\n",
       "<style scoped>\n",
       "    .dataframe tbody tr th:only-of-type {\n",
       "        vertical-align: middle;\n",
       "    }\n",
       "\n",
       "    .dataframe tbody tr th {\n",
       "        vertical-align: top;\n",
       "    }\n",
       "\n",
       "    .dataframe thead th {\n",
       "        text-align: right;\n",
       "    }\n",
       "</style>\n",
       "<table border=\"1\" class=\"dataframe\">\n",
       "  <thead>\n",
       "    <tr style=\"text-align: right;\">\n",
       "      <th></th>\n",
       "      <th>week_day</th>\n",
       "      <th>total_trips</th>\n",
       "    </tr>\n",
       "  </thead>\n",
       "  <tbody>\n",
       "    <tr>\n",
       "      <th>0</th>\n",
       "      <td>1</td>\n",
       "      <td>25908</td>\n",
       "    </tr>\n",
       "    <tr>\n",
       "      <th>1</th>\n",
       "      <td>2</td>\n",
       "      <td>15142</td>\n",
       "    </tr>\n",
       "    <tr>\n",
       "      <th>2</th>\n",
       "      <td>3</td>\n",
       "      <td>14737</td>\n",
       "    </tr>\n",
       "    <tr>\n",
       "      <th>3</th>\n",
       "      <td>4</td>\n",
       "      <td>15237</td>\n",
       "    </tr>\n",
       "    <tr>\n",
       "      <th>4</th>\n",
       "      <td>5</td>\n",
       "      <td>16612</td>\n",
       "    </tr>\n",
       "    <tr>\n",
       "      <th>5</th>\n",
       "      <td>6</td>\n",
       "      <td>19929</td>\n",
       "    </tr>\n",
       "    <tr>\n",
       "      <th>6</th>\n",
       "      <td>7</td>\n",
       "      <td>29244</td>\n",
       "    </tr>\n",
       "  </tbody>\n",
       "</table>\n",
       "</div>"
      ],
      "text/plain": [
       "   week_day  total_trips\n",
       "0         1        25908\n",
       "1         2        15142\n",
       "2         3        14737\n",
       "3         4        15237\n",
       "4         5        16612\n",
       "5         6        19929\n",
       "6         7        29244"
      ]
     },
     "execution_count": 134,
     "metadata": {},
     "output_type": "execute_result"
    }
   ],
   "source": [
    "customer_days"
   ]
  },
  {
   "cell_type": "code",
   "execution_count": 135,
   "id": "28f11400",
   "metadata": {},
   "outputs": [
    {
     "data": {
      "text/plain": [
       "Text(0.5, 1.0, 'Number of Trips from Customers During the Week')"
      ]
     },
     "execution_count": 135,
     "metadata": {},
     "output_type": "execute_result"
    },
    {
     "data": {
      "image/png": "[encoded data removed]",
      "text/plain": [
       "<Figure size 432x288 with 1 Axes>"
      ]
     },
     "metadata": {
      "needs_background": "light"
     },
     "output_type": "display_data"
    }
   ],
   "source": [
    "plt.bar(customer_days['week_day'], customer_days['total_trips'])\n",
    "plt.xlabel(\"Day of Week\")\n",
    "plt.ylabel(\"Number of Trips\")\n",
    "plt.title(\"Number of Trips from Customers During the Week\")"
   ]
  },
  {
   "cell_type": "markdown",
   "id": "319a657a",
   "metadata": {},
   "source": [
    "We see huge increases in ridership closer to the weekends by non-members. Numbers begin rising on Thursdays and Fridays, peaking at Saturday, high levels on Sundays, before dropping back down for the rest of the week."
   ]
  },
  {
   "cell_type": "markdown",
   "id": "60b6ae04",
   "metadata": {},
   "source": [
    "Now, let's take a look at the most popular trips taken by customers."
   ]
  },
  {
   "cell_type": "code",
   "execution_count": 136,
   "id": "cf581a49",
   "metadata": {},
   "outputs": [
    {
     "name": "stderr",
     "output_type": "stream",
     "text": [
      "Query complete after 0.00s: 100%|██████████| 3/3 [00:00<00:00, 1084.83query/s]                        \n",
      "Downloading: 100%|██████████| 1819/1819 [00:01<00:00, 1560.75rows/s]\n"
     ]
    }
   ],
   "source": [
    "%%bigquery customer_trips\n",
    "\n",
    "SELECT start_station_id, end_station_id, count(*) as total_trips\n",
    "FROM `bigquery-public-data.san_francisco.bikeshare_trips` \n",
    "WHERE subscriber_type = \"Customer\"\n",
    "GROUP BY start_station_id, end_station_id\n",
    "ORDER BY total_trips DESC "
   ]
  },
  {
   "cell_type": "code",
   "execution_count": 138,
   "id": "361a2773",
   "metadata": {},
   "outputs": [
    {
     "data": {
      "text/html": [
       "<div>\n",
       "<style scoped>\n",
       "    .dataframe tbody tr th:only-of-type {\n",
       "        vertical-align: middle;\n",
       "    }\n",
       "\n",
       "    .dataframe tbody tr th {\n",
       "        vertical-align: top;\n",
       "    }\n",
       "\n",
       "    .dataframe thead th {\n",
       "        text-align: right;\n",
       "    }\n",
       "</style>\n",
       "<table border=\"1\" class=\"dataframe\">\n",
       "  <thead>\n",
       "    <tr style=\"text-align: right;\">\n",
       "      <th></th>\n",
       "      <th>start_station_id</th>\n",
       "      <th>end_station_id</th>\n",
       "      <th>total_trips</th>\n",
       "    </tr>\n",
       "  </thead>\n",
       "  <tbody>\n",
       "    <tr>\n",
       "      <th>0</th>\n",
       "      <td>50</td>\n",
       "      <td>60</td>\n",
       "      <td>3667</td>\n",
       "    </tr>\n",
       "    <tr>\n",
       "      <th>1</th>\n",
       "      <td>60</td>\n",
       "      <td>60</td>\n",
       "      <td>2545</td>\n",
       "    </tr>\n",
       "    <tr>\n",
       "      <th>2</th>\n",
       "      <td>50</td>\n",
       "      <td>50</td>\n",
       "      <td>2004</td>\n",
       "    </tr>\n",
       "    <tr>\n",
       "      <th>3</th>\n",
       "      <td>60</td>\n",
       "      <td>50</td>\n",
       "      <td>1638</td>\n",
       "    </tr>\n",
       "    <tr>\n",
       "      <th>4</th>\n",
       "      <td>48</td>\n",
       "      <td>60</td>\n",
       "      <td>1345</td>\n",
       "    </tr>\n",
       "    <tr>\n",
       "      <th>5</th>\n",
       "      <td>35</td>\n",
       "      <td>35</td>\n",
       "      <td>1113</td>\n",
       "    </tr>\n",
       "    <tr>\n",
       "      <th>6</th>\n",
       "      <td>50</td>\n",
       "      <td>48</td>\n",
       "      <td>868</td>\n",
       "    </tr>\n",
       "    <tr>\n",
       "      <th>7</th>\n",
       "      <td>74</td>\n",
       "      <td>60</td>\n",
       "      <td>847</td>\n",
       "    </tr>\n",
       "    <tr>\n",
       "      <th>8</th>\n",
       "      <td>76</td>\n",
       "      <td>76</td>\n",
       "      <td>811</td>\n",
       "    </tr>\n",
       "    <tr>\n",
       "      <th>9</th>\n",
       "      <td>76</td>\n",
       "      <td>60</td>\n",
       "      <td>770</td>\n",
       "    </tr>\n",
       "  </tbody>\n",
       "</table>\n",
       "</div>"
      ],
      "text/plain": [
       "   start_station_id  end_station_id  total_trips\n",
       "0                50              60         3667\n",
       "1                60              60         2545\n",
       "2                50              50         2004\n",
       "3                60              50         1638\n",
       "4                48              60         1345\n",
       "5                35              35         1113\n",
       "6                50              48          868\n",
       "7                74              60          847\n",
       "8                76              76          811\n",
       "9                76              60          770"
      ]
     },
     "execution_count": 138,
     "metadata": {},
     "output_type": "execute_result"
    }
   ],
   "source": [
    "customer_trips.head(10)"
   ]
  },
  {
   "cell_type": "markdown",
   "id": "0369557f",
   "metadata": {},
   "source": [
    "Let's look at subscriber trips overall (not just during commuting trips) for comparison."
   ]
  },
  {
   "cell_type": "code",
   "execution_count": 140,
   "id": "4058046b",
   "metadata": {},
   "outputs": [
    {
     "name": "stderr",
     "output_type": "stream",
     "text": [
      "Query complete after 0.00s: 100%|██████████| 3/3 [00:00<00:00, 2030.16query/s]                        \n",
      "Downloading: 100%|██████████| 1788/1788 [00:01<00:00, 1266.96rows/s]\n"
     ]
    }
   ],
   "source": [
    "%%bigquery subscriber_trips\n",
    "\n",
    "SELECT start_station_id, end_station_id, count(*) as total_trips\n",
    "FROM `bigquery-public-data.san_francisco.bikeshare_trips` \n",
    "WHERE subscriber_type = \"Subscriber\"\n",
    "GROUP BY start_station_id, end_station_id\n",
    "ORDER BY total_trips DESC "
   ]
  },
  {
   "cell_type": "code",
   "execution_count": 141,
   "id": "1db53826",
   "metadata": {},
   "outputs": [
    {
     "data": {
      "text/html": [
       "<div>\n",
       "<style scoped>\n",
       "    .dataframe tbody tr th:only-of-type {\n",
       "        vertical-align: middle;\n",
       "    }\n",
       "\n",
       "    .dataframe tbody tr th {\n",
       "        vertical-align: top;\n",
       "    }\n",
       "\n",
       "    .dataframe thead th {\n",
       "        text-align: right;\n",
       "    }\n",
       "</style>\n",
       "<table border=\"1\" class=\"dataframe\">\n",
       "  <thead>\n",
       "    <tr style=\"text-align: right;\">\n",
       "      <th></th>\n",
       "      <th>start_station_id</th>\n",
       "      <th>end_station_id</th>\n",
       "      <th>total_trips</th>\n",
       "    </tr>\n",
       "  </thead>\n",
       "  <tbody>\n",
       "    <tr>\n",
       "      <th>0</th>\n",
       "      <td>69</td>\n",
       "      <td>65</td>\n",
       "      <td>8305</td>\n",
       "    </tr>\n",
       "    <tr>\n",
       "      <th>1</th>\n",
       "      <td>61</td>\n",
       "      <td>50</td>\n",
       "      <td>6931</td>\n",
       "    </tr>\n",
       "    <tr>\n",
       "      <th>2</th>\n",
       "      <td>65</td>\n",
       "      <td>69</td>\n",
       "      <td>6641</td>\n",
       "    </tr>\n",
       "    <tr>\n",
       "      <th>3</th>\n",
       "      <td>50</td>\n",
       "      <td>61</td>\n",
       "      <td>6332</td>\n",
       "    </tr>\n",
       "    <tr>\n",
       "      <th>4</th>\n",
       "      <td>60</td>\n",
       "      <td>74</td>\n",
       "      <td>6200</td>\n",
       "    </tr>\n",
       "    <tr>\n",
       "      <th>5</th>\n",
       "      <td>51</td>\n",
       "      <td>70</td>\n",
       "      <td>6158</td>\n",
       "    </tr>\n",
       "    <tr>\n",
       "      <th>6</th>\n",
       "      <td>74</td>\n",
       "      <td>61</td>\n",
       "      <td>5758</td>\n",
       "    </tr>\n",
       "    <tr>\n",
       "      <th>7</th>\n",
       "      <td>70</td>\n",
       "      <td>50</td>\n",
       "      <td>5709</td>\n",
       "    </tr>\n",
       "    <tr>\n",
       "      <th>8</th>\n",
       "      <td>55</td>\n",
       "      <td>70</td>\n",
       "      <td>5699</td>\n",
       "    </tr>\n",
       "    <tr>\n",
       "      <th>9</th>\n",
       "      <td>74</td>\n",
       "      <td>70</td>\n",
       "      <td>5695</td>\n",
       "    </tr>\n",
       "  </tbody>\n",
       "</table>\n",
       "</div>"
      ],
      "text/plain": [
       "   start_station_id  end_station_id  total_trips\n",
       "0                69              65         8305\n",
       "1                61              50         6931\n",
       "2                65              69         6641\n",
       "3                50              61         6332\n",
       "4                60              74         6200\n",
       "5                51              70         6158\n",
       "6                74              61         5758\n",
       "7                70              50         5709\n",
       "8                55              70         5699\n",
       "9                74              70         5695"
      ]
     },
     "execution_count": 141,
     "metadata": {},
     "output_type": "execute_result"
    }
   ],
   "source": [
    "subscriber_trips.head(10)"
   ]
  },
  {
   "cell_type": "markdown",
   "id": "64aefab9",
   "metadata": {},
   "source": [
    "We can actually see that many of the trips made by customers have the same start and end station compared to trips made by subscribers which the more popular trips have different start and end stations."
   ]
  },
  {
   "cell_type": "markdown",
   "id": "ad2bf26d",
   "metadata": {},
   "source": [
    "#### Part 3: How often do members use bikes when not during commuting hours?"
   ]
  },
  {
   "cell_type": "markdown",
   "id": "1a45ed90",
   "metadata": {},
   "source": [
    "Let's take a look at when members use bikes when not during commuting trips as we defined earlier."
   ]
  },
  {
   "cell_type": "markdown",
   "id": "02513124",
   "metadata": {},
   "source": [
    "##### Trips in general by Subscribers"
   ]
  },
  {
   "cell_type": "code",
   "execution_count": 142,
   "id": "d82d1ac9",
   "metadata": {},
   "outputs": [
    {
     "name": "stderr",
     "output_type": "stream",
     "text": [
      "Query complete after 0.00s: 100%|██████████| 2/2 [00:00<00:00, 798.99query/s]                         \n",
      "Downloading: 100%|██████████| 1/1 [00:01<00:00,  1.66s/rows]\n"
     ]
    }
   ],
   "source": [
    "%%bigquery subscriber\n",
    "\n",
    "SELECT count(*) as total_trips\n",
    "FROM `bigquery-public-data.san_francisco.bikeshare_trips` \n",
    "WHERE subscriber_type = \"Subscriber\""
   ]
  },
  {
   "cell_type": "code",
   "execution_count": 143,
   "id": "a5d41b4d",
   "metadata": {},
   "outputs": [
    {
     "data": {
      "text/html": [
       "<div>\n",
       "<style scoped>\n",
       "    .dataframe tbody tr th:only-of-type {\n",
       "        vertical-align: middle;\n",
       "    }\n",
       "\n",
       "    .dataframe tbody tr th {\n",
       "        vertical-align: top;\n",
       "    }\n",
       "\n",
       "    .dataframe thead th {\n",
       "        text-align: right;\n",
       "    }\n",
       "</style>\n",
       "<table border=\"1\" class=\"dataframe\">\n",
       "  <thead>\n",
       "    <tr style=\"text-align: right;\">\n",
       "      <th></th>\n",
       "      <th>total_trips</th>\n",
       "    </tr>\n",
       "  </thead>\n",
       "  <tbody>\n",
       "    <tr>\n",
       "      <th>0</th>\n",
       "      <td>846839</td>\n",
       "    </tr>\n",
       "  </tbody>\n",
       "</table>\n",
       "</div>"
      ],
      "text/plain": [
       "   total_trips\n",
       "0       846839"
      ]
     },
     "execution_count": 143,
     "metadata": {},
     "output_type": "execute_result"
    }
   ],
   "source": [
    "subscriber"
   ]
  },
  {
   "cell_type": "markdown",
   "id": "2834e6cd",
   "metadata": {},
   "source": [
    "There are a total of 846,839 trips from Subscribers and we know 526,819 of these trips are commuter trips. That leaves 320,020 trips to examine for non-commuter hours."
   ]
  },
  {
   "cell_type": "markdown",
   "id": "2694d96e",
   "metadata": {},
   "source": [
    "##### Trips by Subscribers not during commuting"
   ]
  },
  {
   "cell_type": "code",
   "execution_count": 146,
   "id": "a86210fc",
   "metadata": {},
   "outputs": [
    {
     "name": "stderr",
     "output_type": "stream",
     "text": [
      "Query complete after 0.00s: 100%|██████████| 2/2 [00:00<00:00, 647.42query/s]                         \n",
      "Downloading: 100%|██████████| 320020/320020 [00:01<00:00, 191439.33rows/s]\n"
     ]
    }
   ],
   "source": [
    "%%bigquery subscriber_non_commuting\n",
    "\n",
    "SELECT *\n",
    "FROM `bigquery-public-data.san_francisco.bikeshare_trips` \n",
    "WHERE subscriber_type = \"Subscriber\"\n",
    "AND NOT (EXTRACT(DAYOFWEEK FROM start_date) in (2,3,4,5,6) \n",
    "AND ((EXTRACT(HOUR FROM start_date) >= 7 AND EXTRACT(HOUR FROM start_date) <= 9) \n",
    "     OR (EXTRACT(HOUR FROM start_date) >= 16 AND EXTRACT(HOUR FROM start_date) <= 18))\n",
    "     AND start_station_id != end_station_id)"
   ]
  },
  {
   "cell_type": "code",
   "execution_count": 147,
   "id": "e9f58a45",
   "metadata": {},
   "outputs": [
    {
     "data": {
      "text/html": [
       "<div>\n",
       "<style scoped>\n",
       "    .dataframe tbody tr th:only-of-type {\n",
       "        vertical-align: middle;\n",
       "    }\n",
       "\n",
       "    .dataframe tbody tr th {\n",
       "        vertical-align: top;\n",
       "    }\n",
       "\n",
       "    .dataframe thead th {\n",
       "        text-align: right;\n",
       "    }\n",
       "</style>\n",
       "<table border=\"1\" class=\"dataframe\">\n",
       "  <thead>\n",
       "    <tr style=\"text-align: right;\">\n",
       "      <th></th>\n",
       "      <th>trip_id</th>\n",
       "      <th>duration_sec</th>\n",
       "      <th>start_date</th>\n",
       "      <th>start_station_name</th>\n",
       "      <th>start_station_id</th>\n",
       "      <th>end_date</th>\n",
       "      <th>end_station_name</th>\n",
       "      <th>end_station_id</th>\n",
       "      <th>bike_number</th>\n",
       "      <th>zip_code</th>\n",
       "      <th>subscriber_type</th>\n",
       "    </tr>\n",
       "  </thead>\n",
       "  <tbody>\n",
       "    <tr>\n",
       "      <th>0</th>\n",
       "      <td>969490</td>\n",
       "      <td>255</td>\n",
       "      <td>2015-10-13 19:02:00+00:00</td>\n",
       "      <td>Mezes</td>\n",
       "      <td>83</td>\n",
       "      <td>2015-10-13 19:07:00+00:00</td>\n",
       "      <td>Mezes</td>\n",
       "      <td>83</td>\n",
       "      <td>650</td>\n",
       "      <td>94063</td>\n",
       "      <td>Subscriber</td>\n",
       "    </tr>\n",
       "    <tr>\n",
       "      <th>1</th>\n",
       "      <td>947105</td>\n",
       "      <td>1008</td>\n",
       "      <td>2015-09-26 12:57:00+00:00</td>\n",
       "      <td>Mezes</td>\n",
       "      <td>83</td>\n",
       "      <td>2015-09-26 13:13:00+00:00</td>\n",
       "      <td>Mezes</td>\n",
       "      <td>83</td>\n",
       "      <td>157</td>\n",
       "      <td>94063</td>\n",
       "      <td>Subscriber</td>\n",
       "    </tr>\n",
       "    <tr>\n",
       "      <th>2</th>\n",
       "      <td>1011650</td>\n",
       "      <td>60</td>\n",
       "      <td>2015-11-16 18:54:00+00:00</td>\n",
       "      <td>Mezes</td>\n",
       "      <td>83</td>\n",
       "      <td>2015-11-16 18:55:00+00:00</td>\n",
       "      <td>Mezes</td>\n",
       "      <td>83</td>\n",
       "      <td>35</td>\n",
       "      <td>94124</td>\n",
       "      <td>Subscriber</td>\n",
       "    </tr>\n",
       "    <tr>\n",
       "      <th>3</th>\n",
       "      <td>1092841</td>\n",
       "      <td>1021</td>\n",
       "      <td>2016-02-14 05:25:00+00:00</td>\n",
       "      <td>Kaiser Hospital</td>\n",
       "      <td>26</td>\n",
       "      <td>2016-02-14 05:42:00+00:00</td>\n",
       "      <td>Mezes</td>\n",
       "      <td>83</td>\n",
       "      <td>246</td>\n",
       "      <td>94025</td>\n",
       "      <td>Subscriber</td>\n",
       "    </tr>\n",
       "    <tr>\n",
       "      <th>4</th>\n",
       "      <td>1047069</td>\n",
       "      <td>1113</td>\n",
       "      <td>2015-12-25 13:17:00+00:00</td>\n",
       "      <td>San Mateo County Center</td>\n",
       "      <td>23</td>\n",
       "      <td>2015-12-25 13:35:00+00:00</td>\n",
       "      <td>Mezes</td>\n",
       "      <td>83</td>\n",
       "      <td>149</td>\n",
       "      <td>94063</td>\n",
       "      <td>Subscriber</td>\n",
       "    </tr>\n",
       "  </tbody>\n",
       "</table>\n",
       "</div>"
      ],
      "text/plain": [
       "   trip_id  duration_sec                start_date       start_station_name  \\\n",
       "0   969490           255 2015-10-13 19:02:00+00:00                    Mezes   \n",
       "1   947105          1008 2015-09-26 12:57:00+00:00                    Mezes   \n",
       "2  1011650            60 2015-11-16 18:54:00+00:00                    Mezes   \n",
       "3  1092841          1021 2016-02-14 05:25:00+00:00          Kaiser Hospital   \n",
       "4  1047069          1113 2015-12-25 13:17:00+00:00  San Mateo County Center   \n",
       "\n",
       "   start_station_id                  end_date end_station_name  \\\n",
       "0                83 2015-10-13 19:07:00+00:00            Mezes   \n",
       "1                83 2015-09-26 13:13:00+00:00            Mezes   \n",
       "2                83 2015-11-16 18:55:00+00:00            Mezes   \n",
       "3                26 2016-02-14 05:42:00+00:00            Mezes   \n",
       "4                23 2015-12-25 13:35:00+00:00            Mezes   \n",
       "\n",
       "   end_station_id  bike_number zip_code subscriber_type  \n",
       "0              83          650    94063      Subscriber  \n",
       "1              83          157    94063      Subscriber  \n",
       "2              83           35    94124      Subscriber  \n",
       "3              83          246    94025      Subscriber  \n",
       "4              83          149    94063      Subscriber  "
      ]
     },
     "execution_count": 147,
     "metadata": {},
     "output_type": "execute_result"
    }
   ],
   "source": [
    "subscriber_non_commuting.head()"
   ]
  },
  {
   "cell_type": "markdown",
   "id": "da22f102",
   "metadata": {},
   "source": [
    "Let's look at how often during the week subscribers use bikes while not during commuting hours."
   ]
  },
  {
   "cell_type": "code",
   "execution_count": 148,
   "id": "f93c99e0",
   "metadata": {},
   "outputs": [
    {
     "name": "stderr",
     "output_type": "stream",
     "text": [
      "Query complete after 0.00s: 100%|██████████| 3/3 [00:00<00:00, 1250.29query/s]                        \n",
      "Downloading: 100%|██████████| 7/7 [00:01<00:00,  5.97rows/s]\n"
     ]
    }
   ],
   "source": [
    "%%bigquery subscriber_non_commuting_trips\n",
    "\n",
    "SELECT EXTRACT(DAYOFWEEK FROM start_date) as week_day, count(*) as total_trips\n",
    "FROM `bigquery-public-data.san_francisco.bikeshare_trips` \n",
    "WHERE subscriber_type = \"Subscriber\"\n",
    "AND NOT (EXTRACT(DAYOFWEEK FROM start_date) in (2,3,4,5,6) \n",
    "AND ((EXTRACT(HOUR FROM start_date) >= 7 AND EXTRACT(HOUR FROM start_date) <= 9) \n",
    "     OR (EXTRACT(HOUR FROM start_date) >= 16 AND EXTRACT(HOUR FROM start_date) <= 18))\n",
    "     AND start_station_id != end_station_id)\n",
    "GROUP BY week_day\n",
    "ORDER BY week_day"
   ]
  },
  {
   "cell_type": "code",
   "execution_count": 149,
   "id": "31809e97",
   "metadata": {},
   "outputs": [
    {
     "data": {
      "text/html": [
       "<div>\n",
       "<style scoped>\n",
       "    .dataframe tbody tr th:only-of-type {\n",
       "        vertical-align: middle;\n",
       "    }\n",
       "\n",
       "    .dataframe tbody tr th {\n",
       "        vertical-align: top;\n",
       "    }\n",
       "\n",
       "    .dataframe thead th {\n",
       "        text-align: right;\n",
       "    }\n",
       "</style>\n",
       "<table border=\"1\" class=\"dataframe\">\n",
       "  <thead>\n",
       "    <tr style=\"text-align: right;\">\n",
       "      <th></th>\n",
       "      <th>week_day</th>\n",
       "      <th>total_trips</th>\n",
       "    </tr>\n",
       "  </thead>\n",
       "  <tbody>\n",
       "    <tr>\n",
       "      <th>0</th>\n",
       "      <td>1</td>\n",
       "      <td>25467</td>\n",
       "    </tr>\n",
       "    <tr>\n",
       "      <th>1</th>\n",
       "      <td>2</td>\n",
       "      <td>48595</td>\n",
       "    </tr>\n",
       "    <tr>\n",
       "      <th>2</th>\n",
       "      <td>3</td>\n",
       "      <td>55325</td>\n",
       "    </tr>\n",
       "    <tr>\n",
       "      <th>3</th>\n",
       "      <td>4</td>\n",
       "      <td>55122</td>\n",
       "    </tr>\n",
       "    <tr>\n",
       "      <th>4</th>\n",
       "      <td>5</td>\n",
       "      <td>55140</td>\n",
       "    </tr>\n",
       "    <tr>\n",
       "      <th>5</th>\n",
       "      <td>6</td>\n",
       "      <td>49336</td>\n",
       "    </tr>\n",
       "    <tr>\n",
       "      <th>6</th>\n",
       "      <td>7</td>\n",
       "      <td>31035</td>\n",
       "    </tr>\n",
       "  </tbody>\n",
       "</table>\n",
       "</div>"
      ],
      "text/plain": [
       "   week_day  total_trips\n",
       "0         1        25467\n",
       "1         2        48595\n",
       "2         3        55325\n",
       "3         4        55122\n",
       "4         5        55140\n",
       "5         6        49336\n",
       "6         7        31035"
      ]
     },
     "execution_count": 149,
     "metadata": {},
     "output_type": "execute_result"
    }
   ],
   "source": [
    "subscriber_non_commuting_trips"
   ]
  },
  {
   "cell_type": "code",
   "execution_count": 150,
   "id": "dc561af5",
   "metadata": {},
   "outputs": [
    {
     "data": {
      "text/plain": [
       "Text(0.5, 1.0, 'Number of Trips from Subscribers During the Week (Excluding Commute)')"
      ]
     },
     "execution_count": 150,
     "metadata": {},
     "output_type": "execute_result"
    },
    {
     "data": {
      "image/png": "[encoded data removed]",
      "text/plain": [
       "<Figure size 432x288 with 1 Axes>"
      ]
     },
     "metadata": {
      "needs_background": "light"
     },
     "output_type": "display_data"
    }
   ],
   "source": [
    "plt.bar(subscriber_non_commuting_trips['week_day'], subscriber_non_commuting_trips['total_trips'])\n",
    "plt.xlabel(\"Day of Week\")\n",
    "plt.ylabel(\"Number of Trips\")\n",
    "plt.title(\"Number of Trips from Subscribers During the Week (Excluding Commute)\")"
   ]
  },
  {
   "cell_type": "markdown",
   "id": "8d59b776",
   "metadata": {},
   "source": [
    "This is interesting compared to the graph we made for Customers. For Customers, we saw peak levels for the weekends, but for Subscribers, we actually see an inverse. Even during non-commute hours, there are still higher levels of usage during the week than any other day."
   ]
  },
  {
   "cell_type": "markdown",
   "id": "838ae9e3",
   "metadata": {},
   "source": [
    "#### Part 4: What does ride duration distribution look like?"
   ]
  },
  {
   "cell_type": "markdown",
   "id": "3810c474",
   "metadata": {},
   "source": [
    "##### Subscriber Trip Duration (with Commutes)"
   ]
  },
  {
   "cell_type": "code",
   "execution_count": 154,
   "id": "8c9ac9b4",
   "metadata": {},
   "outputs": [
    {
     "name": "stderr",
     "output_type": "stream",
     "text": [
      "Query complete after 0.00s: 100%|██████████| 1/1 [00:00<00:00, 477.33query/s] \n",
      "Downloading: 100%|██████████| 7/7 [00:02<00:00,  2.99rows/s]\n"
     ]
    }
   ],
   "source": [
    "%%bigquery subscriber_trips_dur\n",
    "\n",
    "SELECT EXTRACT(DAYOFWEEK FROM start_date) as week_day, count(*) as total_trips, avg(duration_sec) as trip_dur\n",
    "FROM `bigquery-public-data.san_francisco.bikeshare_trips` \n",
    "WHERE subscriber_type = \"Subscriber\"\n",
    "GROUP BY week_day\n",
    "ORDER BY week_day"
   ]
  },
  {
   "cell_type": "code",
   "execution_count": 155,
   "id": "7aa8e6c2",
   "metadata": {},
   "outputs": [
    {
     "data": {
      "text/html": [
       "<div>\n",
       "<style scoped>\n",
       "    .dataframe tbody tr th:only-of-type {\n",
       "        vertical-align: middle;\n",
       "    }\n",
       "\n",
       "    .dataframe tbody tr th {\n",
       "        vertical-align: top;\n",
       "    }\n",
       "\n",
       "    .dataframe thead th {\n",
       "        text-align: right;\n",
       "    }\n",
       "</style>\n",
       "<table border=\"1\" class=\"dataframe\">\n",
       "  <thead>\n",
       "    <tr style=\"text-align: right;\">\n",
       "      <th></th>\n",
       "      <th>week_day</th>\n",
       "      <th>total_trips</th>\n",
       "      <th>trip_dur</th>\n",
       "    </tr>\n",
       "  </thead>\n",
       "  <tbody>\n",
       "    <tr>\n",
       "      <th>0</th>\n",
       "      <td>1</td>\n",
       "      <td>25467</td>\n",
       "      <td>679.321436</td>\n",
       "    </tr>\n",
       "    <tr>\n",
       "      <th>1</th>\n",
       "      <td>2</td>\n",
       "      <td>154795</td>\n",
       "      <td>572.989444</td>\n",
       "    </tr>\n",
       "    <tr>\n",
       "      <th>2</th>\n",
       "      <td>3</td>\n",
       "      <td>169668</td>\n",
       "      <td>566.227674</td>\n",
       "    </tr>\n",
       "    <tr>\n",
       "      <th>3</th>\n",
       "      <td>4</td>\n",
       "      <td>165530</td>\n",
       "      <td>572.846837</td>\n",
       "    </tr>\n",
       "    <tr>\n",
       "      <th>4</th>\n",
       "      <td>5</td>\n",
       "      <td>160296</td>\n",
       "      <td>568.490324</td>\n",
       "    </tr>\n",
       "    <tr>\n",
       "      <th>5</th>\n",
       "      <td>6</td>\n",
       "      <td>140048</td>\n",
       "      <td>597.379827</td>\n",
       "    </tr>\n",
       "    <tr>\n",
       "      <th>6</th>\n",
       "      <td>7</td>\n",
       "      <td>31035</td>\n",
       "      <td>703.356758</td>\n",
       "    </tr>\n",
       "  </tbody>\n",
       "</table>\n",
       "</div>"
      ],
      "text/plain": [
       "   week_day  total_trips    trip_dur\n",
       "0         1        25467  679.321436\n",
       "1         2       154795  572.989444\n",
       "2         3       169668  566.227674\n",
       "3         4       165530  572.846837\n",
       "4         5       160296  568.490324\n",
       "5         6       140048  597.379827\n",
       "6         7        31035  703.356758"
      ]
     },
     "execution_count": 155,
     "metadata": {},
     "output_type": "execute_result"
    }
   ],
   "source": [
    "subscriber_trips_dur"
   ]
  },
  {
   "cell_type": "markdown",
   "id": "14cdd076",
   "metadata": {},
   "source": [
    "##### Subscriber Trip Duration (without Commutes)"
   ]
  },
  {
   "cell_type": "code",
   "execution_count": 151,
   "id": "957b52a4",
   "metadata": {},
   "outputs": [
    {
     "name": "stderr",
     "output_type": "stream",
     "text": [
      "Query complete after 0.00s: 100%|██████████| 3/3 [00:00<00:00, 829.13query/s]                         \n",
      "Downloading: 100%|██████████| 7/7 [00:01<00:00,  5.04rows/s]\n"
     ]
    }
   ],
   "source": [
    "%%bigquery subscriber_non_commuting_trips_dur\n",
    "\n",
    "SELECT EXTRACT(DAYOFWEEK FROM start_date) as week_day, count(*) as total_trips, avg(duration_sec) as trip_dur\n",
    "FROM `bigquery-public-data.san_francisco.bikeshare_trips` \n",
    "WHERE subscriber_type = \"Subscriber\"\n",
    "AND NOT (EXTRACT(DAYOFWEEK FROM start_date) in (2,3,4,5,6) \n",
    "AND ((EXTRACT(HOUR FROM start_date) >= 7 AND EXTRACT(HOUR FROM start_date) <= 9) \n",
    "     OR (EXTRACT(HOUR FROM start_date) >= 16 AND EXTRACT(HOUR FROM start_date) <= 18))\n",
    "     AND start_station_id != end_station_id)\n",
    "GROUP BY week_day\n",
    "ORDER BY week_day"
   ]
  },
  {
   "cell_type": "code",
   "execution_count": 152,
   "id": "20a240c0",
   "metadata": {},
   "outputs": [
    {
     "data": {
      "text/html": [
       "<div>\n",
       "<style scoped>\n",
       "    .dataframe tbody tr th:only-of-type {\n",
       "        vertical-align: middle;\n",
       "    }\n",
       "\n",
       "    .dataframe tbody tr th {\n",
       "        vertical-align: top;\n",
       "    }\n",
       "\n",
       "    .dataframe thead th {\n",
       "        text-align: right;\n",
       "    }\n",
       "</style>\n",
       "<table border=\"1\" class=\"dataframe\">\n",
       "  <thead>\n",
       "    <tr style=\"text-align: right;\">\n",
       "      <th></th>\n",
       "      <th>week_day</th>\n",
       "      <th>total_trips</th>\n",
       "      <th>trip_dur</th>\n",
       "    </tr>\n",
       "  </thead>\n",
       "  <tbody>\n",
       "    <tr>\n",
       "      <th>0</th>\n",
       "      <td>1</td>\n",
       "      <td>25467</td>\n",
       "      <td>679.321436</td>\n",
       "    </tr>\n",
       "    <tr>\n",
       "      <th>1</th>\n",
       "      <td>2</td>\n",
       "      <td>48595</td>\n",
       "      <td>586.553781</td>\n",
       "    </tr>\n",
       "    <tr>\n",
       "      <th>2</th>\n",
       "      <td>3</td>\n",
       "      <td>55325</td>\n",
       "      <td>561.470456</td>\n",
       "    </tr>\n",
       "    <tr>\n",
       "      <th>3</th>\n",
       "      <td>4</td>\n",
       "      <td>55122</td>\n",
       "      <td>575.504245</td>\n",
       "    </tr>\n",
       "    <tr>\n",
       "      <th>4</th>\n",
       "      <td>5</td>\n",
       "      <td>55140</td>\n",
       "      <td>577.211734</td>\n",
       "    </tr>\n",
       "    <tr>\n",
       "      <th>5</th>\n",
       "      <td>6</td>\n",
       "      <td>49336</td>\n",
       "      <td>609.494284</td>\n",
       "    </tr>\n",
       "    <tr>\n",
       "      <th>6</th>\n",
       "      <td>7</td>\n",
       "      <td>31035</td>\n",
       "      <td>703.356758</td>\n",
       "    </tr>\n",
       "  </tbody>\n",
       "</table>\n",
       "</div>"
      ],
      "text/plain": [
       "   week_day  total_trips    trip_dur\n",
       "0         1        25467  679.321436\n",
       "1         2        48595  586.553781\n",
       "2         3        55325  561.470456\n",
       "3         4        55122  575.504245\n",
       "4         5        55140  577.211734\n",
       "5         6        49336  609.494284\n",
       "6         7        31035  703.356758"
      ]
     },
     "execution_count": 152,
     "metadata": {},
     "output_type": "execute_result"
    }
   ],
   "source": [
    "subscriber_non_commuting_trips_dur"
   ]
  },
  {
   "cell_type": "markdown",
   "id": "e9388dc7",
   "metadata": {},
   "source": [
    "##### Customer Trip Duration"
   ]
  },
  {
   "cell_type": "code",
   "execution_count": 156,
   "id": "7c551ebc",
   "metadata": {},
   "outputs": [
    {
     "name": "stderr",
     "output_type": "stream",
     "text": [
      "Query complete after 0.00s: 100%|██████████| 3/3 [00:00<00:00, 1280.44query/s]                        \n",
      "Downloading: 100%|██████████| 7/7 [00:01<00:00,  4.94rows/s]\n"
     ]
    }
   ],
   "source": [
    "%%bigquery customer_trips_dur\n",
    "\n",
    "SELECT EXTRACT(DAYOFWEEK FROM start_date) as week_day, count(*) as total_trips, avg(duration_sec) as trip_dur\n",
    "FROM `bigquery-public-data.san_francisco.bikeshare_trips` \n",
    "WHERE subscriber_type = \"Customer\"\n",
    "GROUP BY week_day\n",
    "ORDER BY week_day"
   ]
  },
  {
   "cell_type": "code",
   "execution_count": 157,
   "id": "b938a0e7",
   "metadata": {},
   "outputs": [
    {
     "data": {
      "text/html": [
       "<div>\n",
       "<style scoped>\n",
       "    .dataframe tbody tr th:only-of-type {\n",
       "        vertical-align: middle;\n",
       "    }\n",
       "\n",
       "    .dataframe tbody tr th {\n",
       "        vertical-align: top;\n",
       "    }\n",
       "\n",
       "    .dataframe thead th {\n",
       "        text-align: right;\n",
       "    }\n",
       "</style>\n",
       "<table border=\"1\" class=\"dataframe\">\n",
       "  <thead>\n",
       "    <tr style=\"text-align: right;\">\n",
       "      <th></th>\n",
       "      <th>week_day</th>\n",
       "      <th>total_trips</th>\n",
       "      <th>trip_dur</th>\n",
       "    </tr>\n",
       "  </thead>\n",
       "  <tbody>\n",
       "    <tr>\n",
       "      <th>0</th>\n",
       "      <td>1</td>\n",
       "      <td>25908</td>\n",
       "      <td>4110.214760</td>\n",
       "    </tr>\n",
       "    <tr>\n",
       "      <th>1</th>\n",
       "      <td>2</td>\n",
       "      <td>15142</td>\n",
       "      <td>3251.470347</td>\n",
       "    </tr>\n",
       "    <tr>\n",
       "      <th>2</th>\n",
       "      <td>3</td>\n",
       "      <td>14737</td>\n",
       "      <td>3119.849494</td>\n",
       "    </tr>\n",
       "    <tr>\n",
       "      <th>3</th>\n",
       "      <td>4</td>\n",
       "      <td>15237</td>\n",
       "      <td>3103.364770</td>\n",
       "    </tr>\n",
       "    <tr>\n",
       "      <th>4</th>\n",
       "      <td>5</td>\n",
       "      <td>16612</td>\n",
       "      <td>3233.182880</td>\n",
       "    </tr>\n",
       "    <tr>\n",
       "      <th>5</th>\n",
       "      <td>6</td>\n",
       "      <td>19929</td>\n",
       "      <td>3629.364494</td>\n",
       "    </tr>\n",
       "    <tr>\n",
       "      <th>6</th>\n",
       "      <td>7</td>\n",
       "      <td>29244</td>\n",
       "      <td>4573.233518</td>\n",
       "    </tr>\n",
       "  </tbody>\n",
       "</table>\n",
       "</div>"
      ],
      "text/plain": [
       "   week_day  total_trips     trip_dur\n",
       "0         1        25908  4110.214760\n",
       "1         2        15142  3251.470347\n",
       "2         3        14737  3119.849494\n",
       "3         4        15237  3103.364770\n",
       "4         5        16612  3233.182880\n",
       "5         6        19929  3629.364494\n",
       "6         7        29244  4573.233518"
      ]
     },
     "execution_count": 157,
     "metadata": {},
     "output_type": "execute_result"
    }
   ],
   "source": [
    "customer_trips_dur"
   ]
  },
  {
   "cell_type": "markdown",
   "id": "cdb87107",
   "metadata": {},
   "source": [
    "##### Overall Trip Duration"
   ]
  },
  {
   "cell_type": "code",
   "execution_count": 158,
   "id": "56a5979f",
   "metadata": {},
   "outputs": [
    {
     "name": "stderr",
     "output_type": "stream",
     "text": [
      "Query complete after 0.00s: 100%|██████████| 3/3 [00:00<00:00, 1094.07query/s]                        \n",
      "Downloading: 100%|██████████| 7/7 [00:01<00:00,  5.89rows/s]\n"
     ]
    }
   ],
   "source": [
    "%%bigquery trips_dur\n",
    "\n",
    "SELECT EXTRACT(DAYOFWEEK FROM start_date) as week_day, count(*) as total_trips, avg(duration_sec) as trip_dur\n",
    "FROM `bigquery-public-data.san_francisco.bikeshare_trips` \n",
    "GROUP BY week_day\n",
    "ORDER BY week_day"
   ]
  },
  {
   "cell_type": "code",
   "execution_count": 188,
   "id": "170f1e59",
   "metadata": {},
   "outputs": [
    {
     "data": {
      "text/html": [
       "<div>\n",
       "<style scoped>\n",
       "    .dataframe tbody tr th:only-of-type {\n",
       "        vertical-align: middle;\n",
       "    }\n",
       "\n",
       "    .dataframe tbody tr th {\n",
       "        vertical-align: top;\n",
       "    }\n",
       "\n",
       "    .dataframe thead th {\n",
       "        text-align: right;\n",
       "    }\n",
       "</style>\n",
       "<table border=\"1\" class=\"dataframe\">\n",
       "  <thead>\n",
       "    <tr style=\"text-align: right;\">\n",
       "      <th></th>\n",
       "      <th>week_day</th>\n",
       "      <th>total_trips</th>\n",
       "      <th>trip_dur</th>\n",
       "    </tr>\n",
       "  </thead>\n",
       "  <tbody>\n",
       "    <tr>\n",
       "      <th>0</th>\n",
       "      <td>1</td>\n",
       "      <td>51375</td>\n",
       "      <td>2409.493392</td>\n",
       "    </tr>\n",
       "    <tr>\n",
       "      <th>1</th>\n",
       "      <td>2</td>\n",
       "      <td>169937</td>\n",
       "      <td>811.651759</td>\n",
       "    </tr>\n",
       "    <tr>\n",
       "      <th>2</th>\n",
       "      <td>3</td>\n",
       "      <td>184405</td>\n",
       "      <td>770.304162</td>\n",
       "    </tr>\n",
       "    <tr>\n",
       "      <th>3</th>\n",
       "      <td>4</td>\n",
       "      <td>180767</td>\n",
       "      <td>786.146288</td>\n",
       "    </tr>\n",
       "    <tr>\n",
       "      <th>4</th>\n",
       "      <td>5</td>\n",
       "      <td>176908</td>\n",
       "      <td>818.710058</td>\n",
       "    </tr>\n",
       "    <tr>\n",
       "      <th>5</th>\n",
       "      <td>6</td>\n",
       "      <td>159977</td>\n",
       "      <td>975.086762</td>\n",
       "    </tr>\n",
       "    <tr>\n",
       "      <th>6</th>\n",
       "      <td>7</td>\n",
       "      <td>60279</td>\n",
       "      <td>2580.804559</td>\n",
       "    </tr>\n",
       "  </tbody>\n",
       "</table>\n",
       "</div>"
      ],
      "text/plain": [
       "   week_day  total_trips     trip_dur\n",
       "0         1        51375  2409.493392\n",
       "1         2       169937   811.651759\n",
       "2         3       184405   770.304162\n",
       "3         4       180767   786.146288\n",
       "4         5       176908   818.710058\n",
       "5         6       159977   975.086762\n",
       "6         7        60279  2580.804559"
      ]
     },
     "execution_count": 188,
     "metadata": {},
     "output_type": "execute_result"
    }
   ],
   "source": [
    "trips_dur"
   ]
  },
  {
   "cell_type": "markdown",
   "id": "684d766d",
   "metadata": {},
   "source": [
    "Let's look at these dataframes as bar plots side by side."
   ]
  },
  {
   "cell_type": "code",
   "execution_count": 200,
   "id": "270d52a5",
   "metadata": {},
   "outputs": [
    {
     "data": {
      "text/plain": [
       "Text(0.06, 0.5, 'Average Trip Duration')"
      ]
     },
     "execution_count": 200,
     "metadata": {},
     "output_type": "execute_result"
    },
    {
     "data": {
      "image/png": "[encoded data removed]",
      "text/plain": [
       "<Figure size 432x288 with 4 Axes>"
      ]
     },
     "metadata": {
      "needs_background": "light"
     },
     "output_type": "display_data"
    }
   ],
   "source": [
    "fig, axs = plt.subplots(2, 2, sharex=True)\n",
    "axs[0,0].bar(subscriber_trips_dur[\"week_day\"],subscriber_trips_dur[\"trip_dur\"])\n",
    "axs[0,0].set_title(\"Subscriber Duration\")\n",
    "axs[0,1].bar(subscriber_non_commuting_trips_dur[\"week_day\"],subscriber_non_commuting_trips_dur[\"trip_dur\"])\n",
    "axs[0,1].set_title(\"Subscriber Duration (no Commute)\")\n",
    "axs[1,0].bar(customer_trips_dur[\"week_day\"],customer_trips_dur[\"trip_dur\"])\n",
    "axs[1,0].set_title(\"Customer Duration\")\n",
    "axs[1,1].bar(trips_dur[\"week_day\"],trips_dur[\"trip_dur\"])\n",
    "axs[1,1].set_title(\"Overall Duration\")\n",
    "\n",
    "fig.text(0.5, 0.04, 'Day of Week', ha='center', va='center')\n",
    "fig.text(0.06, 0.5, 'Average Trip Duration', ha='center', va='center', rotation='vertical')"
   ]
  },
  {
   "cell_type": "markdown",
   "id": "f962d3f9",
   "metadata": {},
   "source": [
    "### Conclusion"
   ]
  },
  {
   "cell_type": "markdown",
   "id": "1a8ff23d",
   "metadata": {},
   "source": [
    "Our current plans include\n",
    "- Annual or monthly membership\n",
    "    - no unlock fee\n",
    "    - 45 free minutes of ride time and 20¢ extra per minute after\n",
    "- Single Trip\n",
    "    - $3 unlock fee\n",
    "    - 30 minutes of free ride time and 30¢ extra per minute after\n",
    "- Bike Share for All (Annual with income restrictions)\n",
    "    - no unlock fee\n",
    "    - 60 free minutes of ride time and 13¢ extra per minute after\n",
    "\n",
    "As well as deals for businesses and students."
   ]
  },
  {
   "cell_type": "markdown",
   "id": "f2bd8d39",
   "metadata": {},
   "source": [
    "##### Potential Offers\n",
    "\n",
    "1. Commuter Trip Deals\n",
    "    * A potential promotion could be for non-members to have a commuter trip deal\n",
    "    * This would entail from Mondays-Fridays 7am-9am and 4pm-6pm, non-members would get a discount which could include:\n",
    "        - a low to no unlock fee\n",
    "        - longer minutes of free riding\n",
    "        - lower rates of charge per minute after the designated free ride time\n",
    "    * Part 1 shows that though the majority of users during commuter hours are members already, however, there are still many users who are not\n",
    "    * Having a promotion like this could prompt more usage from customers and some turnover from customers to members\n",
    "    * Though this should be limited time offer so our current members do not cancel their membership to opt for this offer.\n",
    "2. Weekend Deals\n",
    "    * Part 2 shows usage from customers who are not currently members and we found super high peaks of usage on the weekends from customers\n",
    "    * We could propose a new plan for weekend usage that could include no unlock fee and longer free minutes of ride time for a price slightly above that of our other memberships yet saves customers money from being non-members. \n",
    "    * The average ride time from users in general on the weekends, shown in part 4, is around 40 minutes to 45 minutes. We could calculate a fee that benefits both our company as well as our users\n",
    "3. Same Start and End Station Deals\n",
    "    * We also see in part 2 that customers, aka non-members, use our products from the same start and end stations compared to our regular members who more often have different start and end stations\n",
    "    * We deal with a problem where sometimes stations do not have enough bikes to provide or have too much\n",
    "    * A way to deal with this problem and encourage more return at the same station is to have a discount when a user start and ends their trip at the same station\n",
    "4. Hourly Price\n",
    "    * Lastly, we currently do not have a plan hour usage less than monthly but more than single use, say by the hour or by every 3 hours\n",
    "    * Devising a rental plan for a measure of time more than minutes can be useful in attracting new users and even current customers extending their trips\n",
    "    * A customer concern with single trip plans is they may not know the actual cost of their trip until after their trip\n",
    "    * Having a price for hourly helps a customer understand their time limits and helps them with cost worries."
   ]
  },
  {
   "cell_type": "code",
   "execution_count": null,
   "id": "d2410ccd",
   "metadata": {},
   "outputs": [],
   "source": []
  }
 ],
 "metadata": {
  "environment": {
   "name": "common-cpu.m78",
   "type": "gcloud",
   "uri": "gcr.io/deeplearning-platform-release/base-cpu:m78"
  },
  "kernelspec": {
   "display_name": "Python 3",
   "language": "python",
   "name": "python3"
  },
  "language_info": {
   "codemirror_mode": {
    "name": "ipython",
    "version": 3
   },
   "file_extension": ".py",
   "mimetype": "text/x-python",
   "name": "python",
   "nbconvert_exporter": "python",
   "pygments_lexer": "ipython3",
   "version": "3.7.10"
  }
 },
 "nbformat": 4,
 "nbformat_minor": 5
}
